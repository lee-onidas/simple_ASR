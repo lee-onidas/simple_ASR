{
 "cells": [
  {
   "cell_type": "code",
   "execution_count": 1,
   "id": "11eac8b5",
   "metadata": {},
   "outputs": [
    {
     "name": "stderr",
     "output_type": "stream",
     "text": [
      "2022-04-21 18:52:34.039390: W tensorflow/stream_executor/platform/default/dso_loader.cc:64] Could not load dynamic library 'libcudart.so.11.0'; dlerror: libcudart.so.11.0: cannot open shared object file: No such file or directory\n",
      "2022-04-21 18:52:34.039434: I tensorflow/stream_executor/cuda/cudart_stub.cc:29] Ignore above cudart dlerror if you do not have a GPU set up on your machine.\n"
     ]
    }
   ],
   "source": [
    "from preprocess import *\n",
    "from tensorflow.keras.models import Sequential\n",
    "from tensorflow.keras.layers import Dense, Dropout, Flatten, Conv2D, MaxPooling2D, LSTM\n",
    "from tensorflow.keras.utils import to_categorical\n",
    "from tensorflow.keras.callbacks import EarlyStopping\n",
    "import matplotlib.pyplot as plt\n",
    "\n",
    "%load_ext autoreload\n",
    "\n",
    "%autoreload 2"
   ]
  },
  {
   "cell_type": "markdown",
   "id": "4c1cd8a9",
   "metadata": {},
   "source": [
    "## Convert raw audio to MFCC arrays for training"
   ]
  },
  {
   "cell_type": "code",
   "execution_count": 2,
   "id": "b4eeb740",
   "metadata": {},
   "outputs": [
    {
     "name": "stderr",
     "output_type": "stream",
     "text": [
      "Saving vectors of label - 'right': 100%|███████████████████████████████████████████| 2367/2367 [00:12<00:00, 186.14it/s]\n",
      "Saving vectors of label - 'down': 100%|████████████████████████████████████████████| 2359/2359 [00:11<00:00, 213.79it/s]\n",
      "Saving vectors of label - 'left': 100%|████████████████████████████████████████████| 2353/2353 [00:11<00:00, 210.49it/s]\n",
      "Saving vectors of label - 'up': 100%|██████████████████████████████████████████████| 2375/2375 [00:11<00:00, 201.79it/s]\n"
     ]
    }
   ],
   "source": [
    "max_len = 11\n",
    "buckets = 20\n",
    "\n",
    "# Save data to array file first\n",
    "save_data_to_array(max_len=max_len, n_mfcc=buckets)"
   ]
  },
  {
   "cell_type": "markdown",
   "id": "47a3d4c3",
   "metadata": {},
   "source": [
    "## Import Training Data"
   ]
  },
  {
   "cell_type": "code",
   "execution_count": 3,
   "id": "7a735b62",
   "metadata": {},
   "outputs": [
    {
     "data": {
      "text/plain": [
       "['right', 'down', 'left', 'up']"
      ]
     },
     "execution_count": 3,
     "metadata": {},
     "output_type": "execute_result"
    }
   ],
   "source": [
    "labels, _, _ = get_labels()\n",
    "labels"
   ]
  },
  {
   "cell_type": "code",
   "execution_count": 4,
   "id": "560d039f",
   "metadata": {},
   "outputs": [],
   "source": [
    "# Getting first arrays\n",
    "X = np.load(labels[0] + '.npy')\n",
    "y = np.zeros(X.shape[0])\n",
    "\n",
    "# Append all of the dataset into one single array, same goes for y\n",
    "for i, label in enumerate(labels[1:]):\n",
    "    x = np.load(label + '.npy')\n",
    "    X = np.vstack((X, x))\n",
    "    y = np.append(y, np.full(x.shape[0], fill_value= (i + 1)))"
   ]
  },
  {
   "cell_type": "code",
   "execution_count": 5,
   "id": "9f2b1e3d",
   "metadata": {},
   "outputs": [
    {
     "data": {
      "text/plain": [
       "True"
      ]
     },
     "execution_count": 5,
     "metadata": {},
     "output_type": "execute_result"
    }
   ],
   "source": [
    "X.shape[0] == len(y)"
   ]
  },
  {
   "cell_type": "code",
   "execution_count": 6,
   "id": "e6bcdeb4",
   "metadata": {},
   "outputs": [],
   "source": [
    "X_train, X_test, y_train, y_test = train_test_split(X, y, test_size=0.3, shuffle=True)"
   ]
  },
  {
   "cell_type": "code",
   "execution_count": 7,
   "id": "a12b2f67",
   "metadata": {},
   "outputs": [
    {
     "data": {
      "text/plain": [
       "((6617, 20, 11), (6617,), (2837, 20, 11), (2837,))"
      ]
     },
     "execution_count": 7,
     "metadata": {},
     "output_type": "execute_result"
    }
   ],
   "source": [
    "X_train.shape,  y_train.shape, X_test.shape, y_test.shape"
   ]
  },
  {
   "cell_type": "markdown",
   "id": "30075320",
   "metadata": {},
   "source": [
    "# Visualize data"
   ]
  },
  {
   "cell_type": "code",
   "execution_count": 8,
   "id": "21308d22",
   "metadata": {},
   "outputs": [],
   "source": [
    "# # Feature dimension\n",
    "channels = 1\n",
    "\n",
    "# In order plot mffc as an image, we need to reshape the data so we can plot the channel value.\n",
    "X_train = X_train.reshape(X_train.shape[0], buckets, max_len, channels)\n",
    "X_test = X_test.reshape(X_test.shape[0], buckets, max_len, channels)"
   ]
  },
  {
   "cell_type": "code",
   "execution_count": 9,
   "id": "bf5d9569",
   "metadata": {},
   "outputs": [
    {
     "data": {
      "text/plain": [
       "((6617, 20, 11, 1), (6617,), (2837, 20, 11, 1), (2837,))"
      ]
     },
     "execution_count": 9,
     "metadata": {},
     "output_type": "execute_result"
    }
   ],
   "source": [
    "X_train.shape,  y_train.shape, X_test.shape, y_test.shape"
   ]
  },
  {
   "cell_type": "code",
   "execution_count": 10,
   "id": "9cbf9c41",
   "metadata": {},
   "outputs": [
    {
     "name": "stdout",
     "output_type": "stream",
     "text": [
      "0.0\n"
     ]
    },
    {
     "data": {
      "image/png": "[encoded data removed]",
      "text/plain": [
       "<Figure size 432x288 with 1 Axes>"
      ]
     },
     "metadata": {
      "needs_background": "light"
     },
     "output_type": "display_data"
    }
   ],
   "source": [
    "plt.imshow(X_train[100, :, :, 0])\n",
    "print(y_train[100])"
   ]
  },
  {
   "cell_type": "markdown",
   "id": "89abd7d2",
   "metadata": {},
   "source": [
    "## ANN model "
   ]
  },
  {
   "cell_type": "code",
   "execution_count": 11,
   "id": "c374dc26",
   "metadata": {},
   "outputs": [],
   "source": [
    "# one hot encode our targets for multiclass classification\n",
    "y_train_hot = to_categorical(y_train)\n",
    "y_test_hot = to_categorical(y_test)"
   ]
  },
  {
   "cell_type": "code",
   "execution_count": 12,
   "id": "91757839",
   "metadata": {},
   "outputs": [],
   "source": [
    "# reshape the data back to one MFCC array per observation\n",
    "X_train = X_train.reshape(X_train.shape[0], buckets, max_len)\n",
    "X_test = X_test.reshape(X_test.shape[0], buckets, max_len)"
   ]
  },
  {
   "cell_type": "code",
   "execution_count": 13,
   "id": "b1292930",
   "metadata": {},
   "outputs": [
    {
     "data": {
      "text/plain": [
       "((6617, 20, 11), (6617,), (2837, 20, 11), (2837,))"
      ]
     },
     "execution_count": 13,
     "metadata": {},
     "output_type": "execute_result"
    }
   ],
   "source": [
    "X_train.shape,  y_train.shape, X_test.shape, y_test.shape"
   ]
  },
  {
   "cell_type": "code",
   "execution_count": 49,
   "id": "ed441ff0",
   "metadata": {},
   "outputs": [],
   "source": [
    "epochs = 500\n",
    "batch_size = 32\n",
    "num_classes = 4\n",
    "\n",
    "# Instansiate model\n",
    "model = Sequential()\n",
    "model.add(Flatten(input_shape=(buckets, max_len)))\n",
    "model.add(Dense(25,activation='relu'))\n",
    "model.add(Dense(10,activation='relu'))\n",
    "model.add(Dense(num_classes, activation='softmax'))"
   ]
  },
  {
   "cell_type": "code",
   "execution_count": 50,
   "id": "204f8c83",
   "metadata": {},
   "outputs": [],
   "source": [
    "# Compile model\n",
    "model.compile(loss=\"categorical_crossentropy\",\n",
    "                  optimizer=\"adam\",\n",
    "                  metrics=['accuracy'])"
   ]
  },
  {
   "cell_type": "code",
   "execution_count": 51,
   "id": "dff3ff45",
   "metadata": {},
   "outputs": [
    {
     "name": "stdout",
     "output_type": "stream",
     "text": [
      "Model: \"sequential_4\"\n",
      "_________________________________________________________________\n",
      " Layer (type)                Output Shape              Param #   \n",
      "=================================================================\n",
      " flatten_4 (Flatten)         (None, 220)               0         \n",
      "                                                                 \n",
      " dense_9 (Dense)             (None, 25)                5525      \n",
      "                                                                 \n",
      " dense_10 (Dense)            (None, 10)                260       \n",
      "                                                                 \n",
      " dense_11 (Dense)            (None, 4)                 44        \n",
      "                                                                 \n",
      "=================================================================\n",
      "Total params: 5,829\n",
      "Trainable params: 5,829\n",
      "Non-trainable params: 0\n",
      "_________________________________________________________________\n"
     ]
    }
   ],
   "source": [
    "model.summary()"
   ]
  },
  {
   "cell_type": "code",
   "execution_count": 52,
   "id": "6c321c15",
   "metadata": {},
   "outputs": [
    {
     "name": "stdout",
     "output_type": "stream",
     "text": [
      "Epoch 1/500\n",
      "145/145 [==============================] - 0s 2ms/step - loss: 8.1857 - accuracy: 0.2578 - val_loss: 1.4825 - val_accuracy: 0.2744\n",
      "Epoch 2/500\n",
      "145/145 [==============================] - 0s 1ms/step - loss: 1.4514 - accuracy: 0.2807 - val_loss: 1.4066 - val_accuracy: 0.2895\n",
      "Epoch 3/500\n",
      "145/145 [==============================] - 0s 2ms/step - loss: 1.3903 - accuracy: 0.3077 - val_loss: 1.3879 - val_accuracy: 0.3218\n",
      "Epoch 4/500\n",
      "145/145 [==============================] - 0s 2ms/step - loss: 1.3525 - accuracy: 0.3494 - val_loss: 1.3552 - val_accuracy: 0.3731\n",
      "Epoch 5/500\n",
      "145/145 [==============================] - 0s 2ms/step - loss: 1.3071 - accuracy: 0.3934 - val_loss: 1.3176 - val_accuracy: 0.4053\n",
      "Epoch 6/500\n",
      "145/145 [==============================] - 0s 1ms/step - loss: 1.2638 - accuracy: 0.4202 - val_loss: 1.2871 - val_accuracy: 0.4270\n",
      "Epoch 7/500\n",
      "145/145 [==============================] - 0s 1ms/step - loss: 1.2247 - accuracy: 0.4366 - val_loss: 1.2580 - val_accuracy: 0.4386\n",
      "Epoch 8/500\n",
      "145/145 [==============================] - 0s 1ms/step - loss: 1.1946 - accuracy: 0.4554 - val_loss: 1.2340 - val_accuracy: 0.4527\n",
      "Epoch 9/500\n",
      "145/145 [==============================] - 0s 1ms/step - loss: 1.1745 - accuracy: 0.4593 - val_loss: 1.2248 - val_accuracy: 0.4582\n",
      "Epoch 10/500\n",
      "145/145 [==============================] - 0s 1ms/step - loss: 1.1586 - accuracy: 0.4636 - val_loss: 1.2210 - val_accuracy: 0.4653\n",
      "Epoch 11/500\n",
      "145/145 [==============================] - 0s 1ms/step - loss: 1.1499 - accuracy: 0.4686 - val_loss: 1.2017 - val_accuracy: 0.4642\n",
      "Epoch 12/500\n",
      "145/145 [==============================] - 0s 1ms/step - loss: 1.1363 - accuracy: 0.4710 - val_loss: 1.1853 - val_accuracy: 0.4758\n",
      "Epoch 13/500\n",
      "145/145 [==============================] - 0s 1ms/step - loss: 1.1253 - accuracy: 0.4837 - val_loss: 1.1813 - val_accuracy: 0.4773\n",
      "Epoch 14/500\n",
      "145/145 [==============================] - 0s 1ms/step - loss: 1.1173 - accuracy: 0.4768 - val_loss: 1.1878 - val_accuracy: 0.4829\n",
      "Epoch 15/500\n",
      "145/145 [==============================] - 0s 1ms/step - loss: 1.1075 - accuracy: 0.4889 - val_loss: 1.1741 - val_accuracy: 0.4889\n",
      "Epoch 16/500\n",
      "145/145 [==============================] - 0s 1ms/step - loss: 1.0986 - accuracy: 0.4943 - val_loss: 1.1623 - val_accuracy: 0.4940\n",
      "Epoch 17/500\n",
      "145/145 [==============================] - 0s 1ms/step - loss: 1.0900 - accuracy: 0.5042 - val_loss: 1.1518 - val_accuracy: 0.4990\n",
      "Epoch 18/500\n",
      "145/145 [==============================] - 0s 1ms/step - loss: 1.0849 - accuracy: 0.4967 - val_loss: 1.1836 - val_accuracy: 0.4844\n",
      "Epoch 19/500\n",
      "145/145 [==============================] - 0s 1ms/step - loss: 1.0742 - accuracy: 0.5003 - val_loss: 1.1386 - val_accuracy: 0.5000\n",
      "Epoch 20/500\n",
      "145/145 [==============================] - 0s 1ms/step - loss: 1.0567 - accuracy: 0.5094 - val_loss: 1.1201 - val_accuracy: 0.5025\n",
      "Epoch 21/500\n",
      "145/145 [==============================] - 0s 1ms/step - loss: 1.0394 - accuracy: 0.5252 - val_loss: 1.1072 - val_accuracy: 0.5111\n",
      "Epoch 22/500\n",
      "145/145 [==============================] - 0s 1ms/step - loss: 1.0268 - accuracy: 0.5293 - val_loss: 1.1101 - val_accuracy: 0.5176\n",
      "Epoch 23/500\n",
      "145/145 [==============================] - 0s 1ms/step - loss: 1.0078 - accuracy: 0.5470 - val_loss: 1.0784 - val_accuracy: 0.5277\n",
      "Epoch 24/500\n",
      "145/145 [==============================] - 0s 1ms/step - loss: 0.9775 - accuracy: 0.5509 - val_loss: 1.0426 - val_accuracy: 0.5488\n",
      "Epoch 25/500\n",
      "145/145 [==============================] - 0s 1ms/step - loss: 0.9333 - accuracy: 0.5807 - val_loss: 0.9771 - val_accuracy: 0.5770\n",
      "Epoch 26/500\n",
      "145/145 [==============================] - 0s 1ms/step - loss: 0.8951 - accuracy: 0.6055 - val_loss: 0.9985 - val_accuracy: 0.5760\n",
      "Epoch 27/500\n",
      "145/145 [==============================] - 0s 2ms/step - loss: 0.8531 - accuracy: 0.6161 - val_loss: 0.9362 - val_accuracy: 0.5947\n",
      "Epoch 28/500\n",
      "145/145 [==============================] - 0s 1ms/step - loss: 0.8234 - accuracy: 0.6379 - val_loss: 0.9788 - val_accuracy: 0.6007\n",
      "Epoch 29/500\n",
      "145/145 [==============================] - 0s 1ms/step - loss: 0.8103 - accuracy: 0.6405 - val_loss: 0.9424 - val_accuracy: 0.6289\n",
      "Epoch 30/500\n",
      "145/145 [==============================] - 0s 1ms/step - loss: 0.7905 - accuracy: 0.6452 - val_loss: 0.9077 - val_accuracy: 0.6213\n",
      "Epoch 31/500\n",
      "145/145 [==============================] - 0s 1ms/step - loss: 0.7588 - accuracy: 0.6653 - val_loss: 0.8954 - val_accuracy: 0.6244\n",
      "Epoch 32/500\n",
      "145/145 [==============================] - 0s 1ms/step - loss: 0.7360 - accuracy: 0.6746 - val_loss: 0.8675 - val_accuracy: 0.6485\n",
      "Epoch 33/500\n",
      "145/145 [==============================] - 0s 1ms/step - loss: 0.7232 - accuracy: 0.6811 - val_loss: 0.8628 - val_accuracy: 0.6294\n",
      "Epoch 34/500\n",
      "145/145 [==============================] - 0s 2ms/step - loss: 0.6885 - accuracy: 0.6990 - val_loss: 0.8585 - val_accuracy: 0.6782\n",
      "Epoch 35/500\n",
      "145/145 [==============================] - 0s 2ms/step - loss: 0.6724 - accuracy: 0.7135 - val_loss: 0.8428 - val_accuracy: 0.6667\n",
      "Epoch 36/500\n",
      "145/145 [==============================] - 0s 1ms/step - loss: 0.6373 - accuracy: 0.7247 - val_loss: 0.8404 - val_accuracy: 0.6944\n",
      "Epoch 37/500\n",
      "145/145 [==============================] - 0s 1ms/step - loss: 0.6174 - accuracy: 0.7379 - val_loss: 0.8277 - val_accuracy: 0.7019\n",
      "Epoch 38/500\n",
      "145/145 [==============================] - 0s 1ms/step - loss: 0.5828 - accuracy: 0.7556 - val_loss: 0.7884 - val_accuracy: 0.7115\n",
      "Epoch 39/500\n",
      "145/145 [==============================] - 0s 1ms/step - loss: 0.5774 - accuracy: 0.7627 - val_loss: 0.8073 - val_accuracy: 0.6944\n",
      "Epoch 40/500\n",
      "145/145 [==============================] - 0s 1ms/step - loss: 0.5418 - accuracy: 0.7705 - val_loss: 0.7665 - val_accuracy: 0.7120\n",
      "Epoch 41/500\n",
      "145/145 [==============================] - 0s 1ms/step - loss: 0.5226 - accuracy: 0.7806 - val_loss: 0.7452 - val_accuracy: 0.7125\n",
      "Epoch 42/500\n",
      "145/145 [==============================] - 0s 1ms/step - loss: 0.5021 - accuracy: 0.7869 - val_loss: 0.7737 - val_accuracy: 0.7200\n",
      "Epoch 43/500\n",
      "145/145 [==============================] - 0s 1ms/step - loss: 0.4851 - accuracy: 0.7912 - val_loss: 0.7524 - val_accuracy: 0.7382\n",
      "Epoch 44/500\n",
      "145/145 [==============================] - 0s 1ms/step - loss: 0.4715 - accuracy: 0.8000 - val_loss: 0.7716 - val_accuracy: 0.7316\n",
      "Epoch 45/500\n",
      "145/145 [==============================] - 0s 2ms/step - loss: 0.4582 - accuracy: 0.8037 - val_loss: 0.7594 - val_accuracy: 0.7090\n",
      "Epoch 46/500\n",
      "145/145 [==============================] - 0s 2ms/step - loss: 0.4557 - accuracy: 0.8041 - val_loss: 0.7700 - val_accuracy: 0.7276\n",
      "Epoch 47/500\n",
      "145/145 [==============================] - 0s 2ms/step - loss: 0.4307 - accuracy: 0.8139 - val_loss: 0.7884 - val_accuracy: 0.7382\n",
      "Epoch 48/500\n",
      "145/145 [==============================] - 0s 1ms/step - loss: 0.4275 - accuracy: 0.8152 - val_loss: 0.7452 - val_accuracy: 0.7291\n",
      "Epoch 49/500\n",
      "145/145 [==============================] - 0s 1ms/step - loss: 0.4156 - accuracy: 0.8238 - val_loss: 0.7869 - val_accuracy: 0.7362\n",
      "Epoch 50/500\n",
      "145/145 [==============================] - 0s 1ms/step - loss: 0.4071 - accuracy: 0.8223 - val_loss: 0.7724 - val_accuracy: 0.7417\n",
      "Epoch 51/500\n",
      "145/145 [==============================] - 0s 2ms/step - loss: 0.4017 - accuracy: 0.8238 - val_loss: 0.8096 - val_accuracy: 0.7497\n",
      "Epoch 52/500\n",
      "145/145 [==============================] - 0s 2ms/step - loss: 0.3997 - accuracy: 0.8273 - val_loss: 0.7854 - val_accuracy: 0.7447\n",
      "Epoch 53/500\n",
      "145/145 [==============================] - 0s 2ms/step - loss: 0.3796 - accuracy: 0.8337 - val_loss: 0.7895 - val_accuracy: 0.7457\n",
      "Epoch 54/500\n",
      "145/145 [==============================] - 0s 2ms/step - loss: 0.3809 - accuracy: 0.8383 - val_loss: 0.7661 - val_accuracy: 0.7417\n",
      "Epoch 55/500\n",
      "145/145 [==============================] - 0s 2ms/step - loss: 0.3624 - accuracy: 0.8426 - val_loss: 0.8363 - val_accuracy: 0.7477\n",
      "Epoch 56/500\n",
      "145/145 [==============================] - 0s 2ms/step - loss: 0.3679 - accuracy: 0.8413 - val_loss: 0.8001 - val_accuracy: 0.7356\n",
      "Epoch 57/500\n",
      "145/145 [==============================] - 0s 2ms/step - loss: 0.3533 - accuracy: 0.8458 - val_loss: 0.8246 - val_accuracy: 0.7689\n"
     ]
    },
    {
     "name": "stdout",
     "output_type": "stream",
     "text": [
      "Epoch 58/500\n",
      "145/145 [==============================] - 0s 1ms/step - loss: 0.3551 - accuracy: 0.8426 - val_loss: 0.9154 - val_accuracy: 0.7503\n",
      "Epoch 59/500\n",
      "145/145 [==============================] - 0s 1ms/step - loss: 0.3629 - accuracy: 0.8413 - val_loss: 0.7916 - val_accuracy: 0.7538\n",
      "Epoch 60/500\n",
      "145/145 [==============================] - 0s 1ms/step - loss: 0.3681 - accuracy: 0.8404 - val_loss: 0.7693 - val_accuracy: 0.7543\n",
      "Epoch 61/500\n",
      "145/145 [==============================] - 0s 1ms/step - loss: 0.3341 - accuracy: 0.8549 - val_loss: 0.7661 - val_accuracy: 0.7457\n",
      "Epoch 62/500\n",
      "145/145 [==============================] - 0s 1ms/step - loss: 0.3338 - accuracy: 0.8573 - val_loss: 0.8004 - val_accuracy: 0.7543\n",
      "Epoch 63/500\n",
      "145/145 [==============================] - 0s 1ms/step - loss: 0.3095 - accuracy: 0.8607 - val_loss: 0.8347 - val_accuracy: 0.7608\n",
      "Epoch 64/500\n",
      "145/145 [==============================] - 0s 2ms/step - loss: 0.3162 - accuracy: 0.8646 - val_loss: 0.8871 - val_accuracy: 0.7543\n",
      "Epoch 65/500\n",
      "145/145 [==============================] - 0s 1ms/step - loss: 0.3152 - accuracy: 0.8674 - val_loss: 0.8501 - val_accuracy: 0.7638\n",
      "Epoch 66/500\n",
      "145/145 [==============================] - 0s 1ms/step - loss: 0.3080 - accuracy: 0.8711 - val_loss: 0.8322 - val_accuracy: 0.7649\n",
      "Epoch 67/500\n",
      "145/145 [==============================] - 0s 2ms/step - loss: 0.3025 - accuracy: 0.8737 - val_loss: 0.8832 - val_accuracy: 0.7699\n",
      "Epoch 68/500\n",
      "145/145 [==============================] - 0s 1ms/step - loss: 0.3187 - accuracy: 0.8644 - val_loss: 0.8352 - val_accuracy: 0.7543\n",
      "Epoch 69/500\n",
      "145/145 [==============================] - 0s 1ms/step - loss: 0.3112 - accuracy: 0.8659 - val_loss: 0.8386 - val_accuracy: 0.7482\n",
      "Epoch 70/500\n",
      "145/145 [==============================] - 0s 2ms/step - loss: 0.3064 - accuracy: 0.8732 - val_loss: 0.8194 - val_accuracy: 0.7649\n",
      "Epoch 71/500\n",
      "145/145 [==============================] - 0s 2ms/step - loss: 0.2901 - accuracy: 0.8786 - val_loss: 0.8677 - val_accuracy: 0.7613\n",
      "Epoch 72/500\n",
      "145/145 [==============================] - 0s 1ms/step - loss: 0.2922 - accuracy: 0.8784 - val_loss: 0.8422 - val_accuracy: 0.7513\n",
      "Epoch 73/500\n",
      "145/145 [==============================] - 0s 2ms/step - loss: 0.2985 - accuracy: 0.8778 - val_loss: 0.8541 - val_accuracy: 0.7518\n",
      "Epoch 74/500\n",
      "145/145 [==============================] - 0s 2ms/step - loss: 0.2886 - accuracy: 0.8832 - val_loss: 0.8987 - val_accuracy: 0.7689\n",
      "Epoch 75/500\n",
      "145/145 [==============================] - 0s 2ms/step - loss: 0.2884 - accuracy: 0.8821 - val_loss: 0.8651 - val_accuracy: 0.7472\n",
      "Epoch 76/500\n",
      "145/145 [==============================] - 0s 2ms/step - loss: 0.2976 - accuracy: 0.8776 - val_loss: 0.8815 - val_accuracy: 0.7603\n",
      "Epoch 77/500\n",
      "145/145 [==============================] - 0s 2ms/step - loss: 0.2918 - accuracy: 0.8821 - val_loss: 0.8561 - val_accuracy: 0.7618\n",
      "Epoch 78/500\n",
      "145/145 [==============================] - 0s 2ms/step - loss: 0.2796 - accuracy: 0.8836 - val_loss: 0.8640 - val_accuracy: 0.7583\n"
     ]
    }
   ],
   "source": [
    "# Train our model\n",
    "es = EarlyStopping(patience=30, restore_best_weights=True)\n",
    "\n",
    "history = model.fit(X_train, y_train_hot, \n",
    "                    validation_split=0.3, \n",
    "                    epochs=epochs, \n",
    "                    batch_size=batch_size, \n",
    "                    verbose=1, \n",
    "                    callbacks=[es])"
   ]
  },
  {
   "cell_type": "code",
   "execution_count": 53,
   "id": "80b47f86",
   "metadata": {},
   "outputs": [],
   "source": [
    "def plot_history(history):\n",
    "    plt.plot(history.history['loss'])\n",
    "    plt.title('Train loss')\n",
    "    plt.ylabel('Loss')\n",
    "    plt.xlabel('Epoch')\n",
    "    plt.show()"
   ]
  },
  {
   "cell_type": "code",
   "execution_count": 54,
   "id": "afeca9c6",
   "metadata": {},
   "outputs": [
    {
     "data": {
      "image/png": "[encoded data removed]",
      "text/plain": [
       "<Figure size 432x288 with 1 Axes>"
      ]
     },
     "metadata": {
      "needs_background": "light"
     },
     "output_type": "display_data"
    }
   ],
   "source": [
    "plot_history(history)"
   ]
  },
  {
   "cell_type": "code",
   "execution_count": 55,
   "id": "348e0387",
   "metadata": {},
   "outputs": [],
   "source": [
    "def plot_loss_accuracy(history):\n",
    "    plt.plot(history.history['loss'])\n",
    "    plt.plot(history.history['val_loss'])\n",
    "    plt.title('Model loss')\n",
    "    plt.ylabel('Loss')\n",
    "    plt.xlabel('Epoch')\n",
    "    plt.legend(['Train', 'Test'], loc='best')\n",
    "    plt.show()\n",
    "    \n",
    "    plt.plot(history.history['accuracy'])\n",
    "    plt.plot(history.history['val_accuracy'])\n",
    "    plt.title('Model Accuracy')\n",
    "    plt.ylabel('Accuracy')\n",
    "    plt.xlabel('Epoch')\n",
    "    plt.legend(['Train', 'Test'], loc='best')\n",
    "    plt.show()"
   ]
  },
  {
   "cell_type": "code",
   "execution_count": 56,
   "id": "ce8b76cd",
   "metadata": {},
   "outputs": [
    {
     "data": {
      "image/png": "[encoded data removed]",
      "text/plain": [
       "<Figure size 432x288 with 1 Axes>"
      ]
     },
     "metadata": {
      "needs_background": "light"
     },
     "output_type": "display_data"
    },
    {
     "data": {
      "image/png": "[encoded data removed]",
      "text/plain": [
       "<Figure size 432x288 with 1 Axes>"
      ]
     },
     "metadata": {
      "needs_background": "light"
     },
     "output_type": "display_data"
    }
   ],
   "source": [
    "plot_loss_accuracy(history)"
   ]
  },
  {
   "cell_type": "code",
   "execution_count": null,
   "id": "64ecd460",
   "metadata": {},
   "outputs": [],
   "source": []
  }
 ],
 "metadata": {
  "kernelspec": {
   "display_name": "Python 3 (ipykernel)",
   "language": "python",
   "name": "python3"
  },
  "language_info": {
   "codemirror_mode": {
    "name": "ipython",
    "version": 3
   },
   "file_extension": ".py",
   "mimetype": "text/x-python",
   "name": "python",
   "nbconvert_exporter": "python",
   "pygments_lexer": "ipython3",
   "version": "3.8.12"
  },
  "toc": {
   "base_numbering": 1,
   "nav_menu": {},
   "number_sections": false,
   "sideBar": true,
   "skip_h1_title": false,
   "title_cell": "Table of Contents",
   "title_sidebar": "Contents",
   "toc_cell": false,
   "toc_position": {},
   "toc_section_display": true,
   "toc_window_display": true
  }
 },
 "nbformat": 4,
 "nbformat_minor": 5
}
