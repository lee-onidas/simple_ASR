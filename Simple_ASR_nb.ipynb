{
 "cells": [
  {
   "cell_type": "markdown",
   "id": "84b9f541",
   "metadata": {},
   "source": [
    "# Commands Recognition with TensorFlow"
   ]
  },
  {
   "cell_type": "markdown",
   "id": "1f6e32bb",
   "metadata": {},
   "source": [
    "The purpose of this note book is to build a simple acoustic model which can automate voice commands recognition using Tensorflow\n",
    "\n",
    "In order to use deep learning for speech recognition, we need to convert our soundfiles to numerical respresentations.\n",
    "\n",
    "Preprocessing procedure:\n",
    "\n",
    "- convert audio to time series\n",
    "<img src=\"imgs/raw_audio_form.png\" width=\"500\" height=\"340\"> \n",
    "\n",
    "- analyse fourier transform (*optional)\n",
    "\n",
    "<img src=\"imgs/fft.png\" width=\"500\" height=\"340\"> \n",
    "\n",
    "- for speech recognition use short-time fourier transform (stft)\n",
    "\n",
    "<img src=\"imgs/spectogram.png\" width=\"500\" height=\"340\"> \n",
    "\n",
    "- extract Mel-Frequency Cepstrum Cooefficients (feature extractions from stft)\n",
    "\n",
    "\n",
    "<img src=\"imgs/mfcc.png\" width=\"500\" height=\"340\"> \n",
    "\n",
    "The preprocessing workflow is described in the preprocessing_audio_files.ipynb notebook.\n",
    "\n"
   ]
  },
  {
   "cell_type": "code",
   "execution_count": 1,
   "id": "11eac8b5",
   "metadata": {},
   "outputs": [
    {
     "name": "stderr",
     "output_type": "stream",
     "text": [
      "2022-05-13 21:27:57.393004: W tensorflow/stream_executor/platform/default/dso_loader.cc:64] Could not load dynamic library 'libcudart.so.11.0'; dlerror: libcudart.so.11.0: cannot open shared object file: No such file or directory\n",
      "2022-05-13 21:27:57.393098: I tensorflow/stream_executor/cuda/cudart_stub.cc:29] Ignore above cudart dlerror if you do not have a GPU set up on your machine.\n"
     ]
    }
   ],
   "source": [
    "from preprocess import *\n",
    "from tensorflow.keras.models import Sequential\n",
    "from tensorflow.keras.layers import Dense, Dropout, Flatten, Conv2D, MaxPooling2D, LSTM\n",
    "from tensorflow.keras.utils import to_categorical\n",
    "from tensorflow.keras.callbacks import EarlyStopping\n",
    "from tensorflow.keras.regularizers import L1, L2, l1_l2\n",
    "import matplotlib.pyplot as plt\n",
    "\n",
    "%load_ext autoreload\n",
    "\n",
    "%autoreload 2"
   ]
  },
  {
   "cell_type": "markdown",
   "id": "0140e238",
   "metadata": {},
   "source": [
    "## Convert raw audio to MFCC arrays for training"
   ]
  },
  {
   "cell_type": "code",
   "execution_count": 2,
   "id": "14c75391",
   "metadata": {},
   "outputs": [
    {
     "name": "stderr",
     "output_type": "stream",
     "text": [
      "Saving vectors of label - 'right': 100%|██████████████████████████████████████████████████████████████████████████████████████████████████████| 2367/2367 [00:13<00:00, 175.63it/s]\n",
      "Saving vectors of label - 'down': 100%|███████████████████████████████████████████████████████████████████████████████████████████████████████| 2359/2359 [00:14<00:00, 165.37it/s]\n",
      "Saving vectors of label - 'left': 100%|███████████████████████████████████████████████████████████████████████████████████████████████████████| 2353/2353 [00:12<00:00, 185.48it/s]\n",
      "Saving vectors of label - 'up': 100%|█████████████████████████████████████████████████████████████████████████████████████████████████████████| 2375/2375 [00:14<00:00, 166.55it/s]\n"
     ]
    }
   ],
   "source": [
    "max_len = 11\n",
    "buckets = 20\n",
    "\n",
    "# Save data to array file first\n",
    "save_data_to_array(max_len=max_len, n_mfcc=buckets)"
   ]
  },
  {
   "cell_type": "markdown",
   "id": "336e2660",
   "metadata": {},
   "source": [
    "## Import Training Data"
   ]
  },
  {
   "cell_type": "code",
   "execution_count": 3,
   "id": "ab8f3639",
   "metadata": {},
   "outputs": [
    {
     "data": {
      "text/plain": [
       "['right', 'down', 'left', 'up']"
      ]
     },
     "execution_count": 3,
     "metadata": {},
     "output_type": "execute_result"
    }
   ],
   "source": [
    "labels, _, _ = get_labels()\n",
    "labels"
   ]
  },
  {
   "cell_type": "code",
   "execution_count": 4,
   "id": "479799bf",
   "metadata": {},
   "outputs": [],
   "source": [
    "# Getting first arrays\n",
    "X = np.load(labels[0] + '.npy')\n",
    "y = np.zeros(X.shape[0])\n",
    "\n",
    "# Append all of the dataset into one single array, same goes for y\n",
    "for i, label in enumerate(labels[1:]):\n",
    "    x = np.load(label + '.npy')\n",
    "    X = np.vstack((X, x))\n",
    "    y = np.append(y, np.full(x.shape[0], fill_value= (i + 1)))"
   ]
  },
  {
   "cell_type": "code",
   "execution_count": 5,
   "id": "fa9e9885",
   "metadata": {},
   "outputs": [
    {
     "data": {
      "text/plain": [
       "True"
      ]
     },
     "execution_count": 5,
     "metadata": {},
     "output_type": "execute_result"
    }
   ],
   "source": [
    "X.shape[0] == len(y)"
   ]
  },
  {
   "cell_type": "code",
   "execution_count": 6,
   "id": "5aab574d",
   "metadata": {},
   "outputs": [],
   "source": [
    "X_train, X_test, y_train, y_test = train_test_split(X, y, test_size=0.3, shuffle=True)"
   ]
  },
  {
   "cell_type": "code",
   "execution_count": 7,
   "id": "3a320652",
   "metadata": {},
   "outputs": [
    {
     "data": {
      "text/plain": [
       "((6617, 20, 11), (6617,), (2837, 20, 11), (2837,))"
      ]
     },
     "execution_count": 7,
     "metadata": {},
     "output_type": "execute_result"
    }
   ],
   "source": [
    "X_train.shape,  y_train.shape, X_test.shape, y_test.shape"
   ]
  },
  {
   "cell_type": "markdown",
   "id": "9c3ed92a",
   "metadata": {},
   "source": [
    "# Visualize data"
   ]
  },
  {
   "cell_type": "code",
   "execution_count": 8,
   "id": "2d9b6aa6",
   "metadata": {},
   "outputs": [],
   "source": [
    "# # Feature dimension\n",
    "channels = 1\n",
    "\n",
    "# In order plot mffc as an image, we need to reshape the data so we can plot the channel value.\n",
    "X_train = X_train.reshape(X_train.shape[0], buckets, max_len, channels)\n",
    "X_test = X_test.reshape(X_test.shape[0], buckets, max_len, channels)"
   ]
  },
  {
   "cell_type": "code",
   "execution_count": 9,
   "id": "2503fecb",
   "metadata": {},
   "outputs": [
    {
     "data": {
      "text/plain": [
       "((6617, 20, 11, 1), (6617,), (2837, 20, 11, 1), (2837,))"
      ]
     },
     "execution_count": 9,
     "metadata": {},
     "output_type": "execute_result"
    }
   ],
   "source": [
    "X_train.shape,  y_train.shape, X_test.shape, y_test.shape"
   ]
  },
  {
   "cell_type": "code",
   "execution_count": 10,
   "id": "6bfd73f0",
   "metadata": {},
   "outputs": [
    {
     "name": "stdout",
     "output_type": "stream",
     "text": [
      "0.0\n"
     ]
    },
    {
     "data": {
      "image/png": "[encoded data removed]",
      "text/plain": [
       "<Figure size 432x288 with 1 Axes>"
      ]
     },
     "metadata": {
      "needs_background": "light"
     },
     "output_type": "display_data"
    }
   ],
   "source": [
    "plt.imshow(X_train[100, :, :, 0])\n",
    "print(y_train[100])"
   ]
  },
  {
   "cell_type": "markdown",
   "id": "7ff77095",
   "metadata": {},
   "source": [
    "# Model Training"
   ]
  },
  {
   "cell_type": "markdown",
   "id": "c04624c0",
   "metadata": {},
   "source": [
    "## ANN model "
   ]
  },
  {
   "cell_type": "code",
   "execution_count": 11,
   "id": "a049dd94",
   "metadata": {},
   "outputs": [],
   "source": [
    "# one hot encode our targets for multiclass classification\n",
    "y_train_hot = to_categorical(y_train)\n",
    "y_test_hot = to_categorical(y_test)"
   ]
  },
  {
   "cell_type": "code",
   "execution_count": 12,
   "id": "1ac8bd0c",
   "metadata": {},
   "outputs": [],
   "source": [
    "# reshape the data back to one MFCC array per observation\n",
    "X_train = X_train.reshape(X_train.shape[0], buckets, max_len)\n",
    "X_test = X_test.reshape(X_test.shape[0], buckets, max_len)"
   ]
  },
  {
   "cell_type": "code",
   "execution_count": 13,
   "id": "20d6e135",
   "metadata": {},
   "outputs": [
    {
     "data": {
      "text/plain": [
       "((6617, 20, 11), (6617,), (2837, 20, 11), (2837,))"
      ]
     },
     "execution_count": 13,
     "metadata": {},
     "output_type": "execute_result"
    }
   ],
   "source": [
    "X_train.shape,  y_train.shape, X_test.shape, y_test.shape"
   ]
  },
  {
   "cell_type": "code",
   "execution_count": 14,
   "id": "9439e3cc",
   "metadata": {},
   "outputs": [
    {
     "name": "stderr",
     "output_type": "stream",
     "text": [
      "2022-05-13 21:28:56.193693: W tensorflow/stream_executor/platform/default/dso_loader.cc:64] Could not load dynamic library 'libcuda.so.1'; dlerror: libcuda.so.1: cannot open shared object file: No such file or directory\n",
      "2022-05-13 21:28:56.193798: W tensorflow/stream_executor/cuda/cuda_driver.cc:269] failed call to cuInit: UNKNOWN ERROR (303)\n",
      "2022-05-13 21:28:56.193834: I tensorflow/stream_executor/cuda/cuda_diagnostics.cc:156] kernel driver does not appear to be running on this host (DESKTOP-3L661AJ): /proc/driver/nvidia/version does not exist\n",
      "2022-05-13 21:28:56.194415: I tensorflow/core/platform/cpu_feature_guard.cc:151] This TensorFlow binary is optimized with oneAPI Deep Neural Network Library (oneDNN) to use the following CPU instructions in performance-critical operations:  AVX2 AVX512F FMA\n",
      "To enable them in other operations, rebuild TensorFlow with the appropriate compiler flags.\n"
     ]
    }
   ],
   "source": [
    "epochs = 500\n",
    "batch_size = 32\n",
    "num_classes = 4\n",
    "\n",
    "# Build model\n",
    "model = Sequential()\n",
    "model.add(Flatten(input_shape=(buckets, max_len)))\n",
    "model.add(Dense(25,activation='relu',activity_regularizer=L2(0.0001)))\n",
    "model.add(Dense(10,activation='relu', activity_regularizer=L2(0.0001)))\n",
    "model.add(Dense(num_classes, activation='softmax'))"
   ]
  },
  {
   "cell_type": "code",
   "execution_count": 15,
   "id": "04daaebc",
   "metadata": {},
   "outputs": [],
   "source": [
    "# Compile model\n",
    "model.compile(loss=\"categorical_crossentropy\",\n",
    "                  optimizer=\"adam\",\n",
    "                  metrics=['accuracy'])"
   ]
  },
  {
   "cell_type": "code",
   "execution_count": 16,
   "id": "7431cc9b",
   "metadata": {},
   "outputs": [
    {
     "name": "stdout",
     "output_type": "stream",
     "text": [
      "Model: \"sequential\"\n",
      "_________________________________________________________________\n",
      " Layer (type)                Output Shape              Param #   \n",
      "=================================================================\n",
      " flatten (Flatten)           (None, 220)               0         \n",
      "                                                                 \n",
      " dense (Dense)               (None, 25)                5525      \n",
      "                                                                 \n",
      " dense_1 (Dense)             (None, 10)                260       \n",
      "                                                                 \n",
      " dense_2 (Dense)             (None, 4)                 44        \n",
      "                                                                 \n",
      "=================================================================\n",
      "Total params: 5,829\n",
      "Trainable params: 5,829\n",
      "Non-trainable params: 0\n",
      "_________________________________________________________________\n"
     ]
    }
   ],
   "source": [
    "model.summary()"
   ]
  },
  {
   "cell_type": "code",
   "execution_count": 17,
   "id": "290b768e",
   "metadata": {},
   "outputs": [
    {
     "name": "stdout",
     "output_type": "stream",
     "text": [
      "Epoch 1/500\n",
      "145/145 [==============================] - 1s 3ms/step - loss: 18.8981 - accuracy: 0.3025 - val_loss: 3.6584 - val_accuracy: 0.3379\n",
      "Epoch 2/500\n",
      "145/145 [==============================] - 0s 2ms/step - loss: 2.6005 - accuracy: 0.3405 - val_loss: 1.8963 - val_accuracy: 0.3479\n",
      "Epoch 3/500\n",
      "145/145 [==============================] - 0s 2ms/step - loss: 1.6703 - accuracy: 0.3524 - val_loss: 1.5809 - val_accuracy: 0.3474\n",
      "Epoch 4/500\n",
      "145/145 [==============================] - 0s 2ms/step - loss: 1.4584 - accuracy: 0.3757 - val_loss: 1.4579 - val_accuracy: 0.3499\n",
      "Epoch 5/500\n",
      "145/145 [==============================] - 0s 2ms/step - loss: 1.3634 - accuracy: 0.3798 - val_loss: 1.3982 - val_accuracy: 0.3651\n",
      "Epoch 6/500\n",
      "145/145 [==============================] - 0s 2ms/step - loss: 1.2986 - accuracy: 0.4047 - val_loss: 1.3781 - val_accuracy: 0.3711\n",
      "Epoch 7/500\n",
      "145/145 [==============================] - 0s 2ms/step - loss: 1.2565 - accuracy: 0.4291 - val_loss: 1.3486 - val_accuracy: 0.3912\n",
      "Epoch 8/500\n",
      "145/145 [==============================] - 0s 3ms/step - loss: 1.2191 - accuracy: 0.4532 - val_loss: 1.3009 - val_accuracy: 0.4164\n",
      "Epoch 9/500\n",
      "145/145 [==============================] - 0s 2ms/step - loss: 1.1772 - accuracy: 0.4759 - val_loss: 1.2958 - val_accuracy: 0.4466\n",
      "Epoch 10/500\n",
      "145/145 [==============================] - 0s 2ms/step - loss: 1.1503 - accuracy: 0.5116 - val_loss: 1.2470 - val_accuracy: 0.4673\n",
      "Epoch 11/500\n",
      "145/145 [==============================] - 0s 2ms/step - loss: 1.0964 - accuracy: 0.5364 - val_loss: 1.2072 - val_accuracy: 0.4935\n",
      "Epoch 12/500\n",
      "145/145 [==============================] - 0s 2ms/step - loss: 1.0590 - accuracy: 0.5604 - val_loss: 1.2034 - val_accuracy: 0.4924\n",
      "Epoch 13/500\n",
      "145/145 [==============================] - 0s 2ms/step - loss: 1.0194 - accuracy: 0.5863 - val_loss: 1.1495 - val_accuracy: 0.5201\n",
      "Epoch 14/500\n",
      "145/145 [==============================] - 0s 2ms/step - loss: 0.9940 - accuracy: 0.5932 - val_loss: 1.1693 - val_accuracy: 0.5237\n",
      "Epoch 15/500\n",
      "145/145 [==============================] - 0s 2ms/step - loss: 0.9688 - accuracy: 0.6083 - val_loss: 1.1561 - val_accuracy: 0.5196\n",
      "Epoch 16/500\n",
      "145/145 [==============================] - 0s 2ms/step - loss: 0.9447 - accuracy: 0.6133 - val_loss: 1.1438 - val_accuracy: 0.5579\n",
      "Epoch 17/500\n",
      "145/145 [==============================] - 0s 2ms/step - loss: 0.9220 - accuracy: 0.6316 - val_loss: 1.1312 - val_accuracy: 0.5574\n",
      "Epoch 18/500\n",
      "145/145 [==============================] - 0s 2ms/step - loss: 0.9042 - accuracy: 0.6396 - val_loss: 1.0687 - val_accuracy: 0.5624\n",
      "Epoch 19/500\n",
      "145/145 [==============================] - 0s 3ms/step - loss: 0.8813 - accuracy: 0.6517 - val_loss: 1.0641 - val_accuracy: 0.5826\n",
      "Epoch 20/500\n",
      "145/145 [==============================] - 0s 2ms/step - loss: 0.8566 - accuracy: 0.6614 - val_loss: 1.0674 - val_accuracy: 0.5856\n",
      "Epoch 21/500\n",
      "145/145 [==============================] - 0s 2ms/step - loss: 0.8622 - accuracy: 0.6685 - val_loss: 1.0740 - val_accuracy: 0.5987\n",
      "Epoch 22/500\n",
      "145/145 [==============================] - 0s 2ms/step - loss: 0.8364 - accuracy: 0.6806 - val_loss: 1.0615 - val_accuracy: 0.5982\n",
      "Epoch 23/500\n",
      "145/145 [==============================] - 0s 2ms/step - loss: 0.8248 - accuracy: 0.6981 - val_loss: 1.0324 - val_accuracy: 0.6128\n",
      "Epoch 24/500\n",
      "145/145 [==============================] - 0s 2ms/step - loss: 0.8178 - accuracy: 0.7016 - val_loss: 1.0271 - val_accuracy: 0.6354\n",
      "Epoch 25/500\n",
      "145/145 [==============================] - 0s 2ms/step - loss: 0.7779 - accuracy: 0.7201 - val_loss: 1.0679 - val_accuracy: 0.6254\n",
      "Epoch 26/500\n",
      "145/145 [==============================] - 0s 2ms/step - loss: 0.7655 - accuracy: 0.7277 - val_loss: 1.0140 - val_accuracy: 0.6546\n",
      "Epoch 27/500\n",
      "145/145 [==============================] - 0s 3ms/step - loss: 0.7410 - accuracy: 0.7402 - val_loss: 1.0164 - val_accuracy: 0.6501\n",
      "Epoch 28/500\n",
      "145/145 [==============================] - 0s 2ms/step - loss: 0.7370 - accuracy: 0.7394 - val_loss: 1.0829 - val_accuracy: 0.6566\n",
      "Epoch 29/500\n",
      "145/145 [==============================] - 0s 2ms/step - loss: 0.7231 - accuracy: 0.7493 - val_loss: 1.0026 - val_accuracy: 0.6677\n",
      "Epoch 30/500\n",
      "145/145 [==============================] - 0s 2ms/step - loss: 0.7228 - accuracy: 0.7487 - val_loss: 1.0023 - val_accuracy: 0.6511\n",
      "Epoch 31/500\n",
      "145/145 [==============================] - 0s 2ms/step - loss: 0.7100 - accuracy: 0.7525 - val_loss: 0.9624 - val_accuracy: 0.6863\n",
      "Epoch 32/500\n",
      "145/145 [==============================] - 0s 2ms/step - loss: 0.6891 - accuracy: 0.7590 - val_loss: 0.9807 - val_accuracy: 0.6883\n",
      "Epoch 33/500\n",
      "145/145 [==============================] - 0s 2ms/step - loss: 0.6774 - accuracy: 0.7694 - val_loss: 0.9814 - val_accuracy: 0.6878\n",
      "Epoch 34/500\n",
      "145/145 [==============================] - 0s 2ms/step - loss: 0.6619 - accuracy: 0.7782 - val_loss: 0.9917 - val_accuracy: 0.6913\n",
      "Epoch 35/500\n",
      "145/145 [==============================] - 0s 2ms/step - loss: 0.6659 - accuracy: 0.7750 - val_loss: 0.9427 - val_accuracy: 0.7100\n",
      "Epoch 36/500\n",
      "145/145 [==============================] - 0s 2ms/step - loss: 0.6533 - accuracy: 0.7797 - val_loss: 0.9131 - val_accuracy: 0.7090\n",
      "Epoch 37/500\n",
      "145/145 [==============================] - 0s 2ms/step - loss: 0.6476 - accuracy: 0.7808 - val_loss: 0.9595 - val_accuracy: 0.6984\n",
      "Epoch 38/500\n",
      "145/145 [==============================] - 0s 2ms/step - loss: 0.6334 - accuracy: 0.7914 - val_loss: 0.9731 - val_accuracy: 0.6994\n",
      "Epoch 39/500\n",
      "145/145 [==============================] - 0s 2ms/step - loss: 0.6297 - accuracy: 0.7901 - val_loss: 0.9697 - val_accuracy: 0.7120\n",
      "Epoch 40/500\n",
      "145/145 [==============================] - 0s 2ms/step - loss: 0.6201 - accuracy: 0.7918 - val_loss: 0.9388 - val_accuracy: 0.6999\n",
      "Epoch 41/500\n",
      "145/145 [==============================] - 0s 2ms/step - loss: 0.6342 - accuracy: 0.7899 - val_loss: 0.9533 - val_accuracy: 0.7140\n",
      "Epoch 42/500\n",
      "145/145 [==============================] - 0s 2ms/step - loss: 0.6301 - accuracy: 0.7912 - val_loss: 0.9154 - val_accuracy: 0.7125\n",
      "Epoch 43/500\n",
      "145/145 [==============================] - 0s 2ms/step - loss: 0.5977 - accuracy: 0.8013 - val_loss: 0.9031 - val_accuracy: 0.7200\n",
      "Epoch 44/500\n",
      "145/145 [==============================] - 0s 2ms/step - loss: 0.6198 - accuracy: 0.7933 - val_loss: 0.9073 - val_accuracy: 0.7039\n",
      "Epoch 45/500\n",
      "145/145 [==============================] - 0s 2ms/step - loss: 0.6096 - accuracy: 0.8024 - val_loss: 0.9150 - val_accuracy: 0.7195\n",
      "Epoch 46/500\n",
      "145/145 [==============================] - 0s 2ms/step - loss: 0.6088 - accuracy: 0.7968 - val_loss: 0.9865 - val_accuracy: 0.7150\n",
      "Epoch 47/500\n",
      "145/145 [==============================] - 0s 3ms/step - loss: 0.5808 - accuracy: 0.8173 - val_loss: 0.9078 - val_accuracy: 0.7276\n",
      "Epoch 48/500\n",
      "145/145 [==============================] - 0s 2ms/step - loss: 0.5711 - accuracy: 0.8158 - val_loss: 0.9421 - val_accuracy: 0.7075\n",
      "Epoch 49/500\n",
      "145/145 [==============================] - 0s 2ms/step - loss: 0.5721 - accuracy: 0.8139 - val_loss: 0.9458 - val_accuracy: 0.7231\n",
      "Epoch 50/500\n",
      "145/145 [==============================] - 0s 2ms/step - loss: 0.5897 - accuracy: 0.8057 - val_loss: 0.9370 - val_accuracy: 0.7105\n",
      "Epoch 51/500\n",
      "145/145 [==============================] - 0s 2ms/step - loss: 0.5682 - accuracy: 0.8171 - val_loss: 0.9368 - val_accuracy: 0.6898\n",
      "Epoch 52/500\n",
      "145/145 [==============================] - 0s 2ms/step - loss: 0.5650 - accuracy: 0.8167 - val_loss: 1.0094 - val_accuracy: 0.7306\n",
      "Epoch 53/500\n",
      "145/145 [==============================] - 0s 2ms/step - loss: 0.5785 - accuracy: 0.8115 - val_loss: 0.9195 - val_accuracy: 0.7321\n",
      "Epoch 54/500\n",
      "145/145 [==============================] - 0s 2ms/step - loss: 0.5620 - accuracy: 0.8188 - val_loss: 0.8924 - val_accuracy: 0.7231\n",
      "Epoch 55/500\n",
      "145/145 [==============================] - 0s 2ms/step - loss: 0.5408 - accuracy: 0.8221 - val_loss: 0.9858 - val_accuracy: 0.7221\n",
      "Epoch 56/500\n",
      "145/145 [==============================] - 0s 2ms/step - loss: 0.5645 - accuracy: 0.8184 - val_loss: 0.9073 - val_accuracy: 0.7336\n",
      "Epoch 57/500\n",
      "145/145 [==============================] - 0s 2ms/step - loss: 0.5311 - accuracy: 0.8294 - val_loss: 0.9105 - val_accuracy: 0.7397\n"
     ]
    },
    {
     "name": "stdout",
     "output_type": "stream",
     "text": [
      "Epoch 58/500\n",
      "145/145 [==============================] - 0s 2ms/step - loss: 0.5395 - accuracy: 0.8219 - val_loss: 0.9646 - val_accuracy: 0.7170\n",
      "Epoch 59/500\n",
      "145/145 [==============================] - 0s 2ms/step - loss: 0.5392 - accuracy: 0.8234 - val_loss: 0.9201 - val_accuracy: 0.7165\n",
      "Epoch 60/500\n",
      "145/145 [==============================] - 0s 2ms/step - loss: 0.5430 - accuracy: 0.8251 - val_loss: 0.8886 - val_accuracy: 0.7457\n",
      "Epoch 61/500\n",
      "145/145 [==============================] - 0s 2ms/step - loss: 0.5320 - accuracy: 0.8290 - val_loss: 0.9128 - val_accuracy: 0.7261\n",
      "Epoch 62/500\n",
      "145/145 [==============================] - 0s 2ms/step - loss: 0.5364 - accuracy: 0.8303 - val_loss: 0.9245 - val_accuracy: 0.7316\n",
      "Epoch 63/500\n",
      "145/145 [==============================] - 0s 2ms/step - loss: 0.5157 - accuracy: 0.8348 - val_loss: 0.9224 - val_accuracy: 0.7387\n",
      "Epoch 64/500\n",
      "145/145 [==============================] - 0s 2ms/step - loss: 0.5173 - accuracy: 0.8350 - val_loss: 1.0540 - val_accuracy: 0.7100\n",
      "Epoch 65/500\n",
      "145/145 [==============================] - 0s 2ms/step - loss: 0.5229 - accuracy: 0.8316 - val_loss: 0.9423 - val_accuracy: 0.7351\n",
      "Epoch 66/500\n",
      "145/145 [==============================] - 0s 2ms/step - loss: 0.5134 - accuracy: 0.8368 - val_loss: 0.9197 - val_accuracy: 0.7286\n",
      "Epoch 67/500\n",
      "145/145 [==============================] - 0s 2ms/step - loss: 0.4916 - accuracy: 0.8430 - val_loss: 1.0135 - val_accuracy: 0.7150\n",
      "Epoch 68/500\n",
      "145/145 [==============================] - 0s 2ms/step - loss: 0.5036 - accuracy: 0.8350 - val_loss: 0.9853 - val_accuracy: 0.7377\n",
      "Epoch 69/500\n",
      "145/145 [==============================] - 0s 2ms/step - loss: 0.5292 - accuracy: 0.8303 - val_loss: 0.9156 - val_accuracy: 0.7316\n",
      "Epoch 70/500\n",
      "145/145 [==============================] - 0s 2ms/step - loss: 0.5146 - accuracy: 0.8368 - val_loss: 0.9699 - val_accuracy: 0.7195\n",
      "Epoch 71/500\n",
      "145/145 [==============================] - 0s 2ms/step - loss: 0.5053 - accuracy: 0.8393 - val_loss: 0.9427 - val_accuracy: 0.7246\n",
      "Epoch 72/500\n",
      "145/145 [==============================] - 0s 2ms/step - loss: 0.5214 - accuracy: 0.8314 - val_loss: 1.0294 - val_accuracy: 0.7180\n",
      "Epoch 73/500\n",
      "145/145 [==============================] - 0s 2ms/step - loss: 0.4993 - accuracy: 0.8413 - val_loss: 0.9106 - val_accuracy: 0.7256\n",
      "Epoch 74/500\n",
      "145/145 [==============================] - 0s 2ms/step - loss: 0.4946 - accuracy: 0.8404 - val_loss: 0.9551 - val_accuracy: 0.7251\n",
      "Epoch 75/500\n",
      "145/145 [==============================] - 0s 2ms/step - loss: 0.5002 - accuracy: 0.8443 - val_loss: 0.9296 - val_accuracy: 0.7407\n",
      "Epoch 76/500\n",
      "145/145 [==============================] - 0s 2ms/step - loss: 0.4688 - accuracy: 0.8549 - val_loss: 0.9450 - val_accuracy: 0.7291\n",
      "Epoch 77/500\n",
      "145/145 [==============================] - 0s 2ms/step - loss: 0.4917 - accuracy: 0.8452 - val_loss: 0.9333 - val_accuracy: 0.7226\n",
      "Epoch 78/500\n",
      "145/145 [==============================] - 0s 2ms/step - loss: 0.4793 - accuracy: 0.8495 - val_loss: 0.9529 - val_accuracy: 0.7210\n",
      "Epoch 79/500\n",
      "145/145 [==============================] - 0s 2ms/step - loss: 0.4816 - accuracy: 0.8475 - val_loss: 0.9631 - val_accuracy: 0.7296\n",
      "Epoch 80/500\n",
      "145/145 [==============================] - 0s 2ms/step - loss: 0.4984 - accuracy: 0.8406 - val_loss: 0.9228 - val_accuracy: 0.7346\n",
      "Epoch 81/500\n",
      "145/145 [==============================] - 0s 2ms/step - loss: 0.4814 - accuracy: 0.8478 - val_loss: 0.9590 - val_accuracy: 0.7256\n",
      "Epoch 82/500\n",
      "145/145 [==============================] - 0s 2ms/step - loss: 0.4980 - accuracy: 0.8409 - val_loss: 1.0090 - val_accuracy: 0.7241\n",
      "Epoch 83/500\n",
      "145/145 [==============================] - 0s 2ms/step - loss: 0.4810 - accuracy: 0.8566 - val_loss: 0.9754 - val_accuracy: 0.7326\n",
      "Epoch 84/500\n",
      "145/145 [==============================] - 0s 2ms/step - loss: 0.4827 - accuracy: 0.8523 - val_loss: 0.9634 - val_accuracy: 0.7216\n",
      "Epoch 85/500\n",
      "145/145 [==============================] - 0s 2ms/step - loss: 0.4957 - accuracy: 0.8430 - val_loss: 0.9174 - val_accuracy: 0.7200\n",
      "Epoch 86/500\n",
      "145/145 [==============================] - 0s 2ms/step - loss: 0.4943 - accuracy: 0.8434 - val_loss: 0.9931 - val_accuracy: 0.7125\n",
      "Epoch 87/500\n",
      "145/145 [==============================] - 0s 2ms/step - loss: 0.4672 - accuracy: 0.8525 - val_loss: 0.9733 - val_accuracy: 0.7190\n",
      "Epoch 88/500\n",
      "145/145 [==============================] - 0s 2ms/step - loss: 0.4559 - accuracy: 0.8596 - val_loss: 0.9788 - val_accuracy: 0.7407\n",
      "Epoch 89/500\n",
      "145/145 [==============================] - 0s 2ms/step - loss: 0.4715 - accuracy: 0.8562 - val_loss: 0.9454 - val_accuracy: 0.7276\n",
      "Epoch 90/500\n",
      "145/145 [==============================] - 0s 3ms/step - loss: 0.4726 - accuracy: 0.8525 - val_loss: 1.0113 - val_accuracy: 0.7190\n"
     ]
    }
   ],
   "source": [
    "# Train our model\n",
    "es = EarlyStopping(patience=30, restore_best_weights=True)\n",
    "\n",
    "history = model.fit(X_train, y_train_hot, \n",
    "                    validation_split=0.3, \n",
    "                    epochs=epochs, \n",
    "                    batch_size=batch_size, \n",
    "                    verbose=1, \n",
    "                    callbacks=[es])"
   ]
  },
  {
   "cell_type": "code",
   "execution_count": 18,
   "id": "7a6d83aa",
   "metadata": {},
   "outputs": [],
   "source": [
    "def plot_history(history):\n",
    "    plt.figure(figsize=(10,5))\n",
    "    plt.plot(history.history['loss'])\n",
    "    plt.title('Train loss')\n",
    "    plt.ylabel('Loss')\n",
    "    plt.xlabel('Epoch')\n",
    "    plt.show()"
   ]
  },
  {
   "cell_type": "code",
   "execution_count": 19,
   "id": "dd1944de",
   "metadata": {},
   "outputs": [
    {
     "data": {
      "image/png": "[encoded data removed]",
      "text/plain": [
       "<Figure size 720x360 with 1 Axes>"
      ]
     },
     "metadata": {
      "needs_background": "light"
     },
     "output_type": "display_data"
    }
   ],
   "source": [
    "plot_history(history)"
   ]
  },
  {
   "cell_type": "code",
   "execution_count": 20,
   "id": "63af8602",
   "metadata": {},
   "outputs": [],
   "source": [
    "def plot_loss_accuracy(history):\n",
    "    plt.figure(figsize=(10,5))\n",
    "    plt.plot(history.history['loss'])\n",
    "    plt.plot(history.history['val_loss'])\n",
    "    plt.title('Model loss')\n",
    "    plt.ylabel('Loss')\n",
    "    plt.xlabel('Epoch')\n",
    "    plt.legend(['Train', 'Test'], loc='best')\n",
    "    plt.show()\n",
    "    \n",
    "    plt.figure(figsize=(10,5))\n",
    "    plt.plot(history.history['accuracy'])\n",
    "    plt.plot(history.history['val_accuracy'])\n",
    "    plt.title('Model Accuracy')\n",
    "    plt.ylabel('Accuracy')\n",
    "    plt.xlabel('Epoch')\n",
    "    plt.legend(['Train', 'Test'], loc='best')\n",
    "    plt.show()"
   ]
  },
  {
   "cell_type": "code",
   "execution_count": 21,
   "id": "9cca668d",
   "metadata": {},
   "outputs": [
    {
     "data": {
      "image/png": "[encoded data removed]",
      "text/plain": [
       "<Figure size 720x360 with 1 Axes>"
      ]
     },
     "metadata": {
      "needs_background": "light"
     },
     "output_type": "display_data"
    },
    {
     "data": {
      "image/png": "[encoded data removed]",
      "text/plain": [
       "<Figure size 720x360 with 1 Axes>"
      ]
     },
     "metadata": {
      "needs_background": "light"
     },
     "output_type": "display_data"
    }
   ],
   "source": [
    "plot_loss_accuracy(history)"
   ]
  },
  {
   "cell_type": "markdown",
   "id": "68b5f416",
   "metadata": {},
   "source": [
    "## CNN Model"
   ]
  },
  {
   "cell_type": "code",
   "execution_count": 22,
   "id": "caafe770",
   "metadata": {},
   "outputs": [],
   "source": [
    "# expand dimensions, so that the last dimension is the number of channels.\n",
    "# this is required for CNN.\n",
    "X_train = X_train.reshape(X_train.shape[0], buckets, max_len, channels)\n",
    "X_test = X_test.reshape(X_test.shape[0], buckets, max_len, channels)"
   ]
  },
  {
   "cell_type": "code",
   "execution_count": 23,
   "id": "51344679",
   "metadata": {},
   "outputs": [
    {
     "data": {
      "text/plain": [
       "((6617, 20, 11, 1), (6617,), (2837, 20, 11, 1), (2837,))"
      ]
     },
     "execution_count": 23,
     "metadata": {},
     "output_type": "execute_result"
    }
   ],
   "source": [
    "X_train.shape,  y_train.shape, X_test.shape, y_test.shape"
   ]
  },
  {
   "cell_type": "markdown",
   "id": "650c5f72",
   "metadata": {},
   "source": [
    "### CNN with 1 CONV2D layer, 1 Maxpool layer"
   ]
  },
  {
   "cell_type": "code",
   "execution_count": 24,
   "id": "c2ab59e5",
   "metadata": {},
   "outputs": [],
   "source": [
    "# build model\n",
    "CNN_model_1 = Sequential()\n",
    "CNN_model_1.add(Conv2D(32,\n",
    "    (3,3),\n",
    "    input_shape=(buckets,max_len,channels),\n",
    "    activation='relu'))\n",
    "CNN_model_1.add(MaxPooling2D(pool_size=(2, 2)))\n",
    "CNN_model_1.add(Flatten())\n",
    "CNN_model_1.add(Dense(128, activation='relu'))\n",
    "CNN_model_1.add(Dense(num_classes, activation='softmax'))\n",
    "\n",
    "#Compile\n",
    "CNN_model_1.compile(loss='categorical_crossentropy', optimizer='adam',\n",
    "                metrics=['accuracy'])\n",
    "\n"
   ]
  },
  {
   "cell_type": "code",
   "execution_count": 25,
   "id": "34866457",
   "metadata": {},
   "outputs": [
    {
     "name": "stdout",
     "output_type": "stream",
     "text": [
      "Model: \"sequential_1\"\n",
      "_________________________________________________________________\n",
      " Layer (type)                Output Shape              Param #   \n",
      "=================================================================\n",
      " conv2d (Conv2D)             (None, 18, 9, 32)         320       \n",
      "                                                                 \n",
      " max_pooling2d (MaxPooling2D  (None, 9, 4, 32)         0         \n",
      " )                                                               \n",
      "                                                                 \n",
      " flatten_1 (Flatten)         (None, 1152)              0         \n",
      "                                                                 \n",
      " dense_3 (Dense)             (None, 128)               147584    \n",
      "                                                                 \n",
      " dense_4 (Dense)             (None, 4)                 516       \n",
      "                                                                 \n",
      "=================================================================\n",
      "Total params: 148,420\n",
      "Trainable params: 148,420\n",
      "Non-trainable params: 0\n",
      "_________________________________________________________________\n"
     ]
    }
   ],
   "source": [
    "CNN_model_1.summary()"
   ]
  },
  {
   "cell_type": "code",
   "execution_count": 26,
   "id": "83563c06",
   "metadata": {},
   "outputs": [
    {
     "name": "stdout",
     "output_type": "stream",
     "text": [
      "Epoch 1/500\n",
      "145/145 [==============================] - 1s 6ms/step - loss: 2.5747 - accuracy: 0.5247 - val_loss: 1.0624 - val_accuracy: 0.6475\n",
      "Epoch 2/500\n",
      "145/145 [==============================] - 1s 5ms/step - loss: 0.7422 - accuracy: 0.7340 - val_loss: 0.6373 - val_accuracy: 0.7805\n",
      "Epoch 3/500\n",
      "145/145 [==============================] - 1s 5ms/step - loss: 0.5405 - accuracy: 0.8031 - val_loss: 0.5522 - val_accuracy: 0.7956\n",
      "Epoch 4/500\n",
      "145/145 [==============================] - 1s 5ms/step - loss: 0.4024 - accuracy: 0.8583 - val_loss: 0.4794 - val_accuracy: 0.8218\n",
      "Epoch 5/500\n",
      "145/145 [==============================] - 1s 4ms/step - loss: 0.3453 - accuracy: 0.8758 - val_loss: 0.5005 - val_accuracy: 0.8253\n",
      "Epoch 6/500\n",
      "145/145 [==============================] - 1s 4ms/step - loss: 0.3281 - accuracy: 0.8845 - val_loss: 0.4549 - val_accuracy: 0.8343\n",
      "Epoch 7/500\n",
      "145/145 [==============================] - 1s 4ms/step - loss: 0.2742 - accuracy: 0.9017 - val_loss: 0.4850 - val_accuracy: 0.8348\n",
      "Epoch 8/500\n",
      "145/145 [==============================] - 1s 4ms/step - loss: 0.2404 - accuracy: 0.9102 - val_loss: 0.3882 - val_accuracy: 0.8666\n",
      "Epoch 9/500\n",
      "145/145 [==============================] - 1s 4ms/step - loss: 0.1971 - accuracy: 0.9298 - val_loss: 0.3737 - val_accuracy: 0.8726\n",
      "Epoch 10/500\n",
      "145/145 [==============================] - 1s 7ms/step - loss: 0.1715 - accuracy: 0.9380 - val_loss: 0.3464 - val_accuracy: 0.8842\n",
      "Epoch 11/500\n",
      "145/145 [==============================] - 1s 6ms/step - loss: 0.1886 - accuracy: 0.9268 - val_loss: 0.4523 - val_accuracy: 0.8600\n",
      "Epoch 12/500\n",
      "145/145 [==============================] - 1s 9ms/step - loss: 0.1188 - accuracy: 0.9579 - val_loss: 0.5008 - val_accuracy: 0.8686\n",
      "Epoch 13/500\n",
      "145/145 [==============================] - 1s 4ms/step - loss: 0.1018 - accuracy: 0.9629 - val_loss: 0.4425 - val_accuracy: 0.8651\n",
      "Epoch 14/500\n",
      "145/145 [==============================] - 1s 4ms/step - loss: 0.0995 - accuracy: 0.9642 - val_loss: 0.3957 - val_accuracy: 0.8847\n",
      "Epoch 15/500\n",
      "145/145 [==============================] - 1s 4ms/step - loss: 0.1171 - accuracy: 0.9581 - val_loss: 0.4247 - val_accuracy: 0.8877\n",
      "Epoch 16/500\n",
      "145/145 [==============================] - 1s 4ms/step - loss: 0.0808 - accuracy: 0.9737 - val_loss: 0.3757 - val_accuracy: 0.8938\n",
      "Epoch 17/500\n",
      "145/145 [==============================] - 1s 4ms/step - loss: 0.0927 - accuracy: 0.9659 - val_loss: 0.3830 - val_accuracy: 0.8902\n",
      "Epoch 18/500\n",
      "145/145 [==============================] - 1s 4ms/step - loss: 0.0643 - accuracy: 0.9762 - val_loss: 0.4757 - val_accuracy: 0.8812\n",
      "Epoch 19/500\n",
      "145/145 [==============================] - 1s 4ms/step - loss: 0.0603 - accuracy: 0.9788 - val_loss: 0.4288 - val_accuracy: 0.8867\n",
      "Epoch 20/500\n",
      "145/145 [==============================] - 1s 4ms/step - loss: 0.0797 - accuracy: 0.9693 - val_loss: 0.4433 - val_accuracy: 0.8787\n",
      "Epoch 21/500\n",
      "145/145 [==============================] - 1s 8ms/step - loss: 0.0583 - accuracy: 0.9797 - val_loss: 0.4082 - val_accuracy: 0.9003\n",
      "Epoch 22/500\n",
      "145/145 [==============================] - 1s 6ms/step - loss: 0.0526 - accuracy: 0.9801 - val_loss: 0.4999 - val_accuracy: 0.8736\n",
      "Epoch 23/500\n",
      "145/145 [==============================] - 1s 4ms/step - loss: 0.0372 - accuracy: 0.9899 - val_loss: 0.4202 - val_accuracy: 0.8968\n",
      "Epoch 24/500\n",
      "145/145 [==============================] - 1s 4ms/step - loss: 0.0251 - accuracy: 0.9935 - val_loss: 0.5431 - val_accuracy: 0.8736\n",
      "Epoch 25/500\n",
      "145/145 [==============================] - 1s 6ms/step - loss: 0.0186 - accuracy: 0.9948 - val_loss: 0.4410 - val_accuracy: 0.8968\n",
      "Epoch 26/500\n",
      "145/145 [==============================] - 1s 5ms/step - loss: 0.0169 - accuracy: 0.9937 - val_loss: 0.4573 - val_accuracy: 0.8983\n",
      "Epoch 27/500\n",
      "145/145 [==============================] - 1s 6ms/step - loss: 0.0111 - accuracy: 0.9987 - val_loss: 0.4276 - val_accuracy: 0.9074\n",
      "Epoch 28/500\n",
      "145/145 [==============================] - 1s 7ms/step - loss: 0.0051 - accuracy: 0.9994 - val_loss: 0.4526 - val_accuracy: 0.9038\n",
      "Epoch 29/500\n",
      "145/145 [==============================] - 1s 6ms/step - loss: 0.0215 - accuracy: 0.9931 - val_loss: 0.5486 - val_accuracy: 0.8716\n",
      "Epoch 30/500\n",
      "145/145 [==============================] - 1s 6ms/step - loss: 0.2270 - accuracy: 0.9298 - val_loss: 0.6967 - val_accuracy: 0.8630\n",
      "Epoch 31/500\n",
      "145/145 [==============================] - 1s 4ms/step - loss: 0.1422 - accuracy: 0.9518 - val_loss: 0.6168 - val_accuracy: 0.8651\n",
      "Epoch 32/500\n",
      "145/145 [==============================] - 1s 5ms/step - loss: 0.0740 - accuracy: 0.9715 - val_loss: 0.5291 - val_accuracy: 0.8847\n",
      "Epoch 33/500\n",
      "145/145 [==============================] - 1s 4ms/step - loss: 0.1019 - accuracy: 0.9646 - val_loss: 0.4483 - val_accuracy: 0.8922\n",
      "Epoch 34/500\n",
      "145/145 [==============================] - 1s 5ms/step - loss: 0.0250 - accuracy: 0.9927 - val_loss: 0.4120 - val_accuracy: 0.9018\n",
      "Epoch 35/500\n",
      "145/145 [==============================] - 1s 7ms/step - loss: 0.0079 - accuracy: 0.9991 - val_loss: 0.4139 - val_accuracy: 0.9048\n",
      "Epoch 36/500\n",
      "145/145 [==============================] - 1s 9ms/step - loss: 0.0031 - accuracy: 1.0000 - val_loss: 0.4124 - val_accuracy: 0.9114\n",
      "Epoch 37/500\n",
      "145/145 [==============================] - 1s 6ms/step - loss: 0.0022 - accuracy: 1.0000 - val_loss: 0.4165 - val_accuracy: 0.9094\n",
      "Epoch 38/500\n",
      "145/145 [==============================] - 1s 4ms/step - loss: 0.0017 - accuracy: 1.0000 - val_loss: 0.4250 - val_accuracy: 0.9104\n",
      "Epoch 39/500\n",
      "145/145 [==============================] - 1s 4ms/step - loss: 0.0014 - accuracy: 1.0000 - val_loss: 0.4231 - val_accuracy: 0.9114\n",
      "Epoch 40/500\n",
      "145/145 [==============================] - 1s 4ms/step - loss: 0.0012 - accuracy: 1.0000 - val_loss: 0.4288 - val_accuracy: 0.9144\n"
     ]
    }
   ],
   "source": [
    "# Train our model\n",
    "es = EarlyStopping(patience=30, restore_best_weights=True)\n",
    "\n",
    "CNN_model_1_history = CNN_model_1.fit(X_train, y_train_hot, \n",
    "                    validation_split=0.3, \n",
    "                    epochs=epochs, \n",
    "                    batch_size=batch_size, \n",
    "                    verbose=1, \n",
    "                    callbacks=[es])"
   ]
  },
  {
   "cell_type": "code",
   "execution_count": 27,
   "id": "d899ac8a",
   "metadata": {},
   "outputs": [
    {
     "data": {
      "image/png": "[encoded data removed]",
      "text/plain": [
       "<Figure size 720x360 with 1 Axes>"
      ]
     },
     "metadata": {
      "needs_background": "light"
     },
     "output_type": "display_data"
    }
   ],
   "source": [
    "plot_history(CNN_model_1_history)"
   ]
  },
  {
   "cell_type": "code",
   "execution_count": 28,
   "id": "f7dbb025",
   "metadata": {},
   "outputs": [
    {
     "data": {
      "image/png": "[encoded data removed]",
      "text/plain": [
       "<Figure size 720x360 with 1 Axes>"
      ]
     },
     "metadata": {
      "needs_background": "light"
     },
     "output_type": "display_data"
    },
    {
     "data": {
      "image/png": "[encoded data removed]",
      "text/plain": [
       "<Figure size 720x360 with 1 Axes>"
      ]
     },
     "metadata": {
      "needs_background": "light"
     },
     "output_type": "display_data"
    }
   ],
   "source": [
    "plot_loss_accuracy(CNN_model_1_history)"
   ]
  },
  {
   "cell_type": "markdown",
   "id": "3b09a7f1",
   "metadata": {},
   "source": [
    "### CNN with 2 CONV2D layers, 2 Maxpool layers\n"
   ]
  },
  {
   "cell_type": "code",
   "execution_count": 29,
   "id": "f83de194",
   "metadata": {},
   "outputs": [],
   "source": [
    "# build model\n",
    "CNN_model_2 = Sequential()\n",
    "CNN_model_2.add(Conv2D(32,\n",
    "    (3,3),\n",
    "    input_shape=(buckets,max_len,channels),\n",
    "    activation='relu'))\n",
    "CNN_model_2.add(MaxPooling2D(pool_size=(2, 2)))\n",
    "CNN_model_2.add(Conv2D(32,\n",
    "    (3,3),\n",
    "    input_shape=(buckets,max_len,channels),\n",
    "    activation='relu'))\n",
    "CNN_model_2.add(MaxPooling2D(pool_size=(2, 2)))\n",
    "CNN_model_2.add(Flatten())\n",
    "CNN_model_2.add(Dense(128, activation='relu'))\n",
    "CNN_model_2.add(Dense(num_classes, activation='softmax'))\n",
    "\n",
    "#Compile\n",
    "CNN_model_2.compile(loss='categorical_crossentropy', optimizer='adam',\n",
    "                metrics=['accuracy'])\n"
   ]
  },
  {
   "cell_type": "code",
   "execution_count": 30,
   "id": "1e622f4f",
   "metadata": {},
   "outputs": [
    {
     "name": "stdout",
     "output_type": "stream",
     "text": [
      "Model: \"sequential_2\"\n",
      "_________________________________________________________________\n",
      " Layer (type)                Output Shape              Param #   \n",
      "=================================================================\n",
      " conv2d_1 (Conv2D)           (None, 18, 9, 32)         320       \n",
      "                                                                 \n",
      " max_pooling2d_1 (MaxPooling  (None, 9, 4, 32)         0         \n",
      " 2D)                                                             \n",
      "                                                                 \n",
      " conv2d_2 (Conv2D)           (None, 7, 2, 32)          9248      \n",
      "                                                                 \n",
      " max_pooling2d_2 (MaxPooling  (None, 3, 1, 32)         0         \n",
      " 2D)                                                             \n",
      "                                                                 \n",
      " flatten_2 (Flatten)         (None, 96)                0         \n",
      "                                                                 \n",
      " dense_5 (Dense)             (None, 128)               12416     \n",
      "                                                                 \n",
      " dense_6 (Dense)             (None, 4)                 516       \n",
      "                                                                 \n",
      "=================================================================\n",
      "Total params: 22,500\n",
      "Trainable params: 22,500\n",
      "Non-trainable params: 0\n",
      "_________________________________________________________________\n"
     ]
    }
   ],
   "source": [
    "CNN_model_2.summary()"
   ]
  },
  {
   "cell_type": "code",
   "execution_count": 31,
   "id": "6056ddbd",
   "metadata": {},
   "outputs": [
    {
     "name": "stdout",
     "output_type": "stream",
     "text": [
      "Epoch 1/500\n",
      "145/145 [==============================] - 2s 10ms/step - loss: 1.1897 - accuracy: 0.5807 - val_loss: 0.7580 - val_accuracy: 0.7024\n",
      "Epoch 2/500\n",
      "145/145 [==============================] - 1s 7ms/step - loss: 0.5769 - accuracy: 0.7765 - val_loss: 0.6627 - val_accuracy: 0.7553\n",
      "Epoch 3/500\n",
      "145/145 [==============================] - 1s 9ms/step - loss: 0.4347 - accuracy: 0.8402 - val_loss: 0.4731 - val_accuracy: 0.8303\n",
      "Epoch 4/500\n",
      "145/145 [==============================] - 1s 4ms/step - loss: 0.3430 - accuracy: 0.8685 - val_loss: 0.4239 - val_accuracy: 0.8479\n",
      "Epoch 5/500\n",
      "145/145 [==============================] - 1s 4ms/step - loss: 0.3014 - accuracy: 0.8881 - val_loss: 0.4051 - val_accuracy: 0.8545\n",
      "Epoch 6/500\n",
      "145/145 [==============================] - 1s 5ms/step - loss: 0.2528 - accuracy: 0.9052 - val_loss: 0.4390 - val_accuracy: 0.8560\n",
      "Epoch 7/500\n",
      "145/145 [==============================] - 1s 4ms/step - loss: 0.2363 - accuracy: 0.9138 - val_loss: 0.4009 - val_accuracy: 0.8550\n",
      "Epoch 8/500\n",
      "145/145 [==============================] - 1s 4ms/step - loss: 0.1989 - accuracy: 0.9259 - val_loss: 0.4417 - val_accuracy: 0.8610\n",
      "Epoch 9/500\n",
      "145/145 [==============================] - 1s 8ms/step - loss: 0.1729 - accuracy: 0.9369 - val_loss: 0.3475 - val_accuracy: 0.8797\n",
      "Epoch 10/500\n",
      "145/145 [==============================] - 1s 8ms/step - loss: 0.1581 - accuracy: 0.9415 - val_loss: 0.3971 - val_accuracy: 0.8646\n",
      "Epoch 11/500\n",
      "145/145 [==============================] - 1s 6ms/step - loss: 0.1309 - accuracy: 0.9525 - val_loss: 0.3680 - val_accuracy: 0.8781\n",
      "Epoch 12/500\n",
      "145/145 [==============================] - 1s 4ms/step - loss: 0.1264 - accuracy: 0.9566 - val_loss: 0.3830 - val_accuracy: 0.8797\n",
      "Epoch 13/500\n",
      "145/145 [==============================] - 1s 4ms/step - loss: 0.1171 - accuracy: 0.9531 - val_loss: 0.3815 - val_accuracy: 0.8897\n",
      "Epoch 14/500\n",
      "145/145 [==============================] - 1s 4ms/step - loss: 0.1029 - accuracy: 0.9605 - val_loss: 0.4024 - val_accuracy: 0.8862\n",
      "Epoch 15/500\n",
      "145/145 [==============================] - 1s 4ms/step - loss: 0.0799 - accuracy: 0.9708 - val_loss: 0.3356 - val_accuracy: 0.9033\n",
      "Epoch 16/500\n",
      "145/145 [==============================] - 1s 7ms/step - loss: 0.0973 - accuracy: 0.9639 - val_loss: 0.4499 - val_accuracy: 0.8746\n",
      "Epoch 17/500\n",
      "145/145 [==============================] - 1s 10ms/step - loss: 0.0817 - accuracy: 0.9696 - val_loss: 0.4139 - val_accuracy: 0.8842\n",
      "Epoch 18/500\n",
      "145/145 [==============================] - 1s 8ms/step - loss: 0.0587 - accuracy: 0.9788 - val_loss: 0.3917 - val_accuracy: 0.8963\n",
      "Epoch 19/500\n",
      "145/145 [==============================] - 1s 4ms/step - loss: 0.0338 - accuracy: 0.9892 - val_loss: 0.4355 - val_accuracy: 0.8902\n",
      "Epoch 20/500\n",
      "145/145 [==============================] - 1s 5ms/step - loss: 0.0698 - accuracy: 0.9739 - val_loss: 0.5033 - val_accuracy: 0.8741\n",
      "Epoch 21/500\n",
      "145/145 [==============================] - 1s 6ms/step - loss: 0.0826 - accuracy: 0.9732 - val_loss: 0.4138 - val_accuracy: 0.9003\n",
      "Epoch 22/500\n",
      "145/145 [==============================] - 1s 4ms/step - loss: 0.0582 - accuracy: 0.9780 - val_loss: 0.4943 - val_accuracy: 0.8822\n",
      "Epoch 23/500\n",
      "145/145 [==============================] - 1s 10ms/step - loss: 0.0473 - accuracy: 0.9834 - val_loss: 0.6375 - val_accuracy: 0.8656\n",
      "Epoch 24/500\n",
      "145/145 [==============================] - 1s 9ms/step - loss: 0.0597 - accuracy: 0.9810 - val_loss: 0.4560 - val_accuracy: 0.8847\n",
      "Epoch 25/500\n",
      "145/145 [==============================] - 1s 5ms/step - loss: 0.0842 - accuracy: 0.9719 - val_loss: 0.5026 - val_accuracy: 0.8882\n",
      "Epoch 26/500\n",
      "145/145 [==============================] - 1s 4ms/step - loss: 0.0238 - accuracy: 0.9922 - val_loss: 0.5850 - val_accuracy: 0.8872\n",
      "Epoch 27/500\n",
      "145/145 [==============================] - 1s 4ms/step - loss: 0.0205 - accuracy: 0.9933 - val_loss: 0.4716 - val_accuracy: 0.8998\n",
      "Epoch 28/500\n",
      "145/145 [==============================] - 1s 4ms/step - loss: 0.0119 - accuracy: 0.9963 - val_loss: 0.5253 - val_accuracy: 0.8993\n",
      "Epoch 29/500\n",
      "145/145 [==============================] - 1s 4ms/step - loss: 0.0070 - accuracy: 0.9989 - val_loss: 0.4952 - val_accuracy: 0.9063\n",
      "Epoch 30/500\n",
      "145/145 [==============================] - 1s 8ms/step - loss: 0.0045 - accuracy: 0.9994 - val_loss: 0.6878 - val_accuracy: 0.8756\n",
      "Epoch 31/500\n",
      "145/145 [==============================] - 1s 8ms/step - loss: 0.1698 - accuracy: 0.9480 - val_loss: 0.5824 - val_accuracy: 0.8671\n",
      "Epoch 32/500\n",
      "145/145 [==============================] - 1s 5ms/step - loss: 0.0993 - accuracy: 0.9670 - val_loss: 0.7909 - val_accuracy: 0.8555\n",
      "Epoch 33/500\n",
      "145/145 [==============================] - 1s 7ms/step - loss: 0.0616 - accuracy: 0.9775 - val_loss: 0.4739 - val_accuracy: 0.8943\n",
      "Epoch 34/500\n",
      "145/145 [==============================] - 1s 5ms/step - loss: 0.0173 - accuracy: 0.9948 - val_loss: 0.5442 - val_accuracy: 0.8963\n",
      "Epoch 35/500\n",
      "145/145 [==============================] - 1s 9ms/step - loss: 0.0057 - accuracy: 0.9991 - val_loss: 0.4876 - val_accuracy: 0.9074\n",
      "Epoch 36/500\n",
      "145/145 [==============================] - 1s 6ms/step - loss: 0.0020 - accuracy: 1.0000 - val_loss: 0.4973 - val_accuracy: 0.9053\n",
      "Epoch 37/500\n",
      "145/145 [==============================] - 1s 8ms/step - loss: 0.0013 - accuracy: 1.0000 - val_loss: 0.5014 - val_accuracy: 0.9079\n",
      "Epoch 38/500\n",
      "145/145 [==============================] - 1s 4ms/step - loss: 0.0010 - accuracy: 1.0000 - val_loss: 0.5161 - val_accuracy: 0.9079\n",
      "Epoch 39/500\n",
      "145/145 [==============================] - 1s 4ms/step - loss: 8.3796e-04 - accuracy: 1.0000 - val_loss: 0.5232 - val_accuracy: 0.9079\n",
      "Epoch 40/500\n",
      "145/145 [==============================] - 1s 4ms/step - loss: 6.8076e-04 - accuracy: 1.0000 - val_loss: 0.5234 - val_accuracy: 0.9094\n",
      "Epoch 41/500\n",
      "145/145 [==============================] - 1s 4ms/step - loss: 6.0050e-04 - accuracy: 1.0000 - val_loss: 0.5301 - val_accuracy: 0.9084\n",
      "Epoch 42/500\n",
      "145/145 [==============================] - 1s 4ms/step - loss: 5.2272e-04 - accuracy: 1.0000 - val_loss: 0.5392 - val_accuracy: 0.9084\n",
      "Epoch 43/500\n",
      "145/145 [==============================] - 1s 4ms/step - loss: 4.6550e-04 - accuracy: 1.0000 - val_loss: 0.5436 - val_accuracy: 0.9094\n",
      "Epoch 44/500\n",
      "145/145 [==============================] - 1s 4ms/step - loss: 4.1474e-04 - accuracy: 1.0000 - val_loss: 0.5487 - val_accuracy: 0.9099\n",
      "Epoch 45/500\n",
      "145/145 [==============================] - 1s 4ms/step - loss: 3.7074e-04 - accuracy: 1.0000 - val_loss: 0.5576 - val_accuracy: 0.9094\n"
     ]
    }
   ],
   "source": [
    "# Train our model\n",
    "es = EarlyStopping(patience=30, restore_best_weights=True)\n",
    "\n",
    "CNN_model_2_history = CNN_model_2.fit(X_train, y_train_hot, \n",
    "                    validation_split=0.3, \n",
    "                    epochs=epochs, \n",
    "                    batch_size=batch_size, \n",
    "                    verbose=1, \n",
    "                    callbacks=[es])"
   ]
  },
  {
   "cell_type": "code",
   "execution_count": 32,
   "id": "584ae98e",
   "metadata": {},
   "outputs": [
    {
     "data": {
      "image/png": "[encoded data removed]",
      "text/plain": [
       "<Figure size 720x360 with 1 Axes>"
      ]
     },
     "metadata": {
      "needs_background": "light"
     },
     "output_type": "display_data"
    }
   ],
   "source": [
    "plot_history(CNN_model_2_history)"
   ]
  },
  {
   "cell_type": "code",
   "execution_count": 33,
   "id": "4bcfa463",
   "metadata": {},
   "outputs": [
    {
     "data": {
      "image/png": "[encoded data removed]",
      "text/plain": [
       "<Figure size 720x360 with 1 Axes>"
      ]
     },
     "metadata": {
      "needs_background": "light"
     },
     "output_type": "display_data"
    },
    {
     "data": {
      "image/png": "[encoded data removed]",
      "text/plain": [
       "<Figure size 720x360 with 1 Axes>"
      ]
     },
     "metadata": {
      "needs_background": "light"
     },
     "output_type": "display_data"
    }
   ],
   "source": [
    "plot_loss_accuracy(CNN_model_2_history)"
   ]
  },
  {
   "cell_type": "markdown",
   "id": "44a5bd7d",
   "metadata": {},
   "source": [
    "### CNN with 2 CONV2D layers, 2 Maxpool layers, 2 Dropout Layers\n",
    "\n",
    "Both the 1 and 2 CONV2D layer models exhibit over-fitting. applying dropout layers to reduce variance"
   ]
  },
  {
   "cell_type": "code",
   "execution_count": 34,
   "id": "de597635",
   "metadata": {},
   "outputs": [],
   "source": [
    "# build model\n",
    "CNN_model_3 = Sequential()\n",
    "CNN_model_3.add(Conv2D(32,\n",
    "    (3,3),\n",
    "    input_shape=(buckets,max_len,channels),\n",
    "    activation='relu'))\n",
    "CNN_model_3.add(MaxPooling2D(pool_size=(2, 2)))\n",
    "CNN_model_3.add(Dropout(0.25))\n",
    "CNN_model_3.add(Conv2D(32,\n",
    "    (3,3),\n",
    "    input_shape=(buckets,max_len,channels),\n",
    "    activation='relu'))\n",
    "CNN_model_3.add(MaxPooling2D(pool_size=(2, 2)))\n",
    "CNN_model_3.add(Dropout(0.25))\n",
    "CNN_model_3.add(Flatten())\n",
    "CNN_model_3.add(Dense(128, activation='relu'))\n",
    "CNN_model_3.add(Dense(num_classes, activation='softmax'))\n",
    "\n",
    "#Compile\n",
    "CNN_model_3.compile(loss='categorical_crossentropy', optimizer='adam',\n",
    "                metrics=['accuracy'])"
   ]
  },
  {
   "cell_type": "code",
   "execution_count": 35,
   "id": "54bd78b7",
   "metadata": {},
   "outputs": [
    {
     "name": "stdout",
     "output_type": "stream",
     "text": [
      "Model: \"sequential_3\"\n",
      "_________________________________________________________________\n",
      " Layer (type)                Output Shape              Param #   \n",
      "=================================================================\n",
      " conv2d_3 (Conv2D)           (None, 18, 9, 32)         320       \n",
      "                                                                 \n",
      " max_pooling2d_3 (MaxPooling  (None, 9, 4, 32)         0         \n",
      " 2D)                                                             \n",
      "                                                                 \n",
      " dropout (Dropout)           (None, 9, 4, 32)          0         \n",
      "                                                                 \n",
      " conv2d_4 (Conv2D)           (None, 7, 2, 32)          9248      \n",
      "                                                                 \n",
      " max_pooling2d_4 (MaxPooling  (None, 3, 1, 32)         0         \n",
      " 2D)                                                             \n",
      "                                                                 \n",
      " dropout_1 (Dropout)         (None, 3, 1, 32)          0         \n",
      "                                                                 \n",
      " flatten_3 (Flatten)         (None, 96)                0         \n",
      "                                                                 \n",
      " dense_7 (Dense)             (None, 128)               12416     \n",
      "                                                                 \n",
      " dense_8 (Dense)             (None, 4)                 516       \n",
      "                                                                 \n",
      "=================================================================\n",
      "Total params: 22,500\n",
      "Trainable params: 22,500\n",
      "Non-trainable params: 0\n",
      "_________________________________________________________________\n"
     ]
    }
   ],
   "source": [
    "CNN_model_3.summary()"
   ]
  },
  {
   "cell_type": "code",
   "execution_count": 36,
   "id": "349927e7",
   "metadata": {},
   "outputs": [
    {
     "name": "stdout",
     "output_type": "stream",
     "text": [
      "Epoch 1/500\n",
      "145/145 [==============================] - 2s 8ms/step - loss: 2.3475 - accuracy: 0.2939 - val_loss: 1.3637 - val_accuracy: 0.3147\n",
      "Epoch 2/500\n",
      "145/145 [==============================] - 1s 6ms/step - loss: 1.3398 - accuracy: 0.3535 - val_loss: 1.2916 - val_accuracy: 0.4220\n",
      "Epoch 3/500\n",
      "145/145 [==============================] - 1s 6ms/step - loss: 1.2702 - accuracy: 0.4135 - val_loss: 1.1596 - val_accuracy: 0.5222\n",
      "Epoch 4/500\n",
      "145/145 [==============================] - 1s 6ms/step - loss: 1.1807 - accuracy: 0.4783 - val_loss: 1.0171 - val_accuracy: 0.5962\n",
      "Epoch 5/500\n",
      "145/145 [==============================] - 1s 6ms/step - loss: 1.0826 - accuracy: 0.5416 - val_loss: 0.9526 - val_accuracy: 0.6284\n",
      "Epoch 6/500\n",
      "145/145 [==============================] - 1s 5ms/step - loss: 1.0227 - accuracy: 0.5757 - val_loss: 0.8374 - val_accuracy: 0.7100\n",
      "Epoch 7/500\n",
      "145/145 [==============================] - 1s 6ms/step - loss: 0.9545 - accuracy: 0.6076 - val_loss: 0.7110 - val_accuracy: 0.7508\n",
      "Epoch 8/500\n",
      "145/145 [==============================] - 1s 6ms/step - loss: 0.8883 - accuracy: 0.6461 - val_loss: 0.7225 - val_accuracy: 0.7518\n",
      "Epoch 9/500\n",
      "145/145 [==============================] - 1s 6ms/step - loss: 0.8461 - accuracy: 0.6569 - val_loss: 0.6551 - val_accuracy: 0.7694\n",
      "Epoch 10/500\n",
      "145/145 [==============================] - 1s 6ms/step - loss: 0.8003 - accuracy: 0.6806 - val_loss: 0.6337 - val_accuracy: 0.7805\n",
      "Epoch 11/500\n",
      "145/145 [==============================] - 1s 6ms/step - loss: 0.7569 - accuracy: 0.7018 - val_loss: 0.5955 - val_accuracy: 0.7875\n",
      "Epoch 12/500\n",
      "145/145 [==============================] - 1s 6ms/step - loss: 0.7291 - accuracy: 0.7195 - val_loss: 0.6017 - val_accuracy: 0.7724\n",
      "Epoch 13/500\n",
      "145/145 [==============================] - 1s 6ms/step - loss: 0.7032 - accuracy: 0.7249 - val_loss: 0.5437 - val_accuracy: 0.8016\n",
      "Epoch 14/500\n",
      "145/145 [==============================] - 1s 6ms/step - loss: 0.6721 - accuracy: 0.7357 - val_loss: 0.5201 - val_accuracy: 0.8187\n",
      "Epoch 15/500\n",
      "145/145 [==============================] - 1s 6ms/step - loss: 0.6471 - accuracy: 0.7489 - val_loss: 0.4964 - val_accuracy: 0.8248\n",
      "Epoch 16/500\n",
      "145/145 [==============================] - 1s 6ms/step - loss: 0.6193 - accuracy: 0.7582 - val_loss: 0.4776 - val_accuracy: 0.8353\n",
      "Epoch 17/500\n",
      "145/145 [==============================] - 1s 6ms/step - loss: 0.6065 - accuracy: 0.7633 - val_loss: 0.4563 - val_accuracy: 0.8369\n",
      "Epoch 18/500\n",
      "145/145 [==============================] - 1s 6ms/step - loss: 0.5893 - accuracy: 0.7724 - val_loss: 0.4831 - val_accuracy: 0.8197\n",
      "Epoch 19/500\n",
      "145/145 [==============================] - 1s 6ms/step - loss: 0.5749 - accuracy: 0.7832 - val_loss: 0.4282 - val_accuracy: 0.8515\n",
      "Epoch 20/500\n",
      "145/145 [==============================] - 1s 6ms/step - loss: 0.5712 - accuracy: 0.7880 - val_loss: 0.4320 - val_accuracy: 0.8550\n",
      "Epoch 21/500\n",
      "145/145 [==============================] - 1s 7ms/step - loss: 0.5328 - accuracy: 0.7923 - val_loss: 0.4169 - val_accuracy: 0.8510\n",
      "Epoch 22/500\n",
      "145/145 [==============================] - 1s 6ms/step - loss: 0.5371 - accuracy: 0.7925 - val_loss: 0.4182 - val_accuracy: 0.8605\n",
      "Epoch 23/500\n",
      "145/145 [==============================] - 1s 6ms/step - loss: 0.5282 - accuracy: 0.7998 - val_loss: 0.4200 - val_accuracy: 0.8540\n",
      "Epoch 24/500\n",
      "145/145 [==============================] - 1s 6ms/step - loss: 0.5399 - accuracy: 0.7940 - val_loss: 0.4312 - val_accuracy: 0.8540\n",
      "Epoch 25/500\n",
      "145/145 [==============================] - 1s 6ms/step - loss: 0.5083 - accuracy: 0.8052 - val_loss: 0.3803 - val_accuracy: 0.8671\n",
      "Epoch 26/500\n",
      "145/145 [==============================] - 1s 7ms/step - loss: 0.5083 - accuracy: 0.8098 - val_loss: 0.3893 - val_accuracy: 0.8630\n",
      "Epoch 27/500\n",
      "145/145 [==============================] - 1s 7ms/step - loss: 0.5070 - accuracy: 0.8061 - val_loss: 0.3718 - val_accuracy: 0.8656\n",
      "Epoch 28/500\n",
      "145/145 [==============================] - 1s 8ms/step - loss: 0.4965 - accuracy: 0.8113 - val_loss: 0.3872 - val_accuracy: 0.8600\n",
      "Epoch 29/500\n",
      "145/145 [==============================] - 1s 7ms/step - loss: 0.4707 - accuracy: 0.8173 - val_loss: 0.3822 - val_accuracy: 0.8656\n",
      "Epoch 30/500\n",
      "145/145 [==============================] - 1s 7ms/step - loss: 0.4664 - accuracy: 0.8197 - val_loss: 0.3667 - val_accuracy: 0.8701\n",
      "Epoch 31/500\n",
      "145/145 [==============================] - 1s 8ms/step - loss: 0.4683 - accuracy: 0.8253 - val_loss: 0.3700 - val_accuracy: 0.8716\n",
      "Epoch 32/500\n",
      "145/145 [==============================] - 1s 8ms/step - loss: 0.4641 - accuracy: 0.8227 - val_loss: 0.3616 - val_accuracy: 0.8756\n",
      "Epoch 33/500\n",
      "145/145 [==============================] - 1s 7ms/step - loss: 0.4516 - accuracy: 0.8292 - val_loss: 0.3471 - val_accuracy: 0.8822\n",
      "Epoch 34/500\n",
      "145/145 [==============================] - 1s 8ms/step - loss: 0.4303 - accuracy: 0.8346 - val_loss: 0.3564 - val_accuracy: 0.8812\n",
      "Epoch 35/500\n",
      "145/145 [==============================] - 1s 8ms/step - loss: 0.4489 - accuracy: 0.8294 - val_loss: 0.3389 - val_accuracy: 0.8847\n",
      "Epoch 36/500\n",
      "145/145 [==============================] - 1s 8ms/step - loss: 0.4445 - accuracy: 0.8324 - val_loss: 0.3543 - val_accuracy: 0.8792\n",
      "Epoch 37/500\n",
      "145/145 [==============================] - 1s 8ms/step - loss: 0.4125 - accuracy: 0.8495 - val_loss: 0.3336 - val_accuracy: 0.8817\n",
      "Epoch 38/500\n",
      "145/145 [==============================] - 1s 7ms/step - loss: 0.4315 - accuracy: 0.8365 - val_loss: 0.3425 - val_accuracy: 0.8817\n",
      "Epoch 39/500\n",
      "145/145 [==============================] - 1s 9ms/step - loss: 0.4209 - accuracy: 0.8445 - val_loss: 0.3336 - val_accuracy: 0.8852\n",
      "Epoch 40/500\n",
      "145/145 [==============================] - 1s 7ms/step - loss: 0.4093 - accuracy: 0.8389 - val_loss: 0.3179 - val_accuracy: 0.8857\n",
      "Epoch 41/500\n",
      "145/145 [==============================] - 1s 7ms/step - loss: 0.4093 - accuracy: 0.8445 - val_loss: 0.3347 - val_accuracy: 0.8822\n",
      "Epoch 42/500\n",
      "145/145 [==============================] - 1s 8ms/step - loss: 0.4186 - accuracy: 0.8413 - val_loss: 0.3365 - val_accuracy: 0.8842\n",
      "Epoch 43/500\n",
      "145/145 [==============================] - 1s 7ms/step - loss: 0.3938 - accuracy: 0.8471 - val_loss: 0.3148 - val_accuracy: 0.8973\n",
      "Epoch 44/500\n",
      "145/145 [==============================] - 1s 7ms/step - loss: 0.4236 - accuracy: 0.8363 - val_loss: 0.3761 - val_accuracy: 0.8701\n",
      "Epoch 45/500\n",
      "145/145 [==============================] - 1s 7ms/step - loss: 0.3911 - accuracy: 0.8545 - val_loss: 0.3176 - val_accuracy: 0.8877\n",
      "Epoch 46/500\n",
      "145/145 [==============================] - 1s 7ms/step - loss: 0.4017 - accuracy: 0.8540 - val_loss: 0.3163 - val_accuracy: 0.8958\n",
      "Epoch 47/500\n",
      "145/145 [==============================] - 1s 7ms/step - loss: 0.3897 - accuracy: 0.8529 - val_loss: 0.3266 - val_accuracy: 0.8902\n",
      "Epoch 48/500\n",
      "145/145 [==============================] - 1s 8ms/step - loss: 0.3899 - accuracy: 0.8523 - val_loss: 0.3303 - val_accuracy: 0.8852\n",
      "Epoch 49/500\n",
      "145/145 [==============================] - 1s 7ms/step - loss: 0.3740 - accuracy: 0.8573 - val_loss: 0.3478 - val_accuracy: 0.8731\n",
      "Epoch 50/500\n",
      "145/145 [==============================] - 1s 8ms/step - loss: 0.3974 - accuracy: 0.8517 - val_loss: 0.3074 - val_accuracy: 0.8953\n",
      "Epoch 51/500\n",
      "145/145 [==============================] - 1s 7ms/step - loss: 0.3672 - accuracy: 0.8624 - val_loss: 0.3200 - val_accuracy: 0.9003\n",
      "Epoch 52/500\n",
      "145/145 [==============================] - 1s 7ms/step - loss: 0.3564 - accuracy: 0.8659 - val_loss: 0.2856 - val_accuracy: 0.9063\n",
      "Epoch 53/500\n",
      "145/145 [==============================] - 1s 7ms/step - loss: 0.3749 - accuracy: 0.8568 - val_loss: 0.3062 - val_accuracy: 0.8912\n",
      "Epoch 54/500\n",
      "145/145 [==============================] - 1s 7ms/step - loss: 0.3751 - accuracy: 0.8586 - val_loss: 0.3097 - val_accuracy: 0.8958\n",
      "Epoch 55/500\n",
      "145/145 [==============================] - 1s 7ms/step - loss: 0.3525 - accuracy: 0.8661 - val_loss: 0.3024 - val_accuracy: 0.8953\n",
      "Epoch 56/500\n",
      "145/145 [==============================] - 1s 7ms/step - loss: 0.3549 - accuracy: 0.8670 - val_loss: 0.3093 - val_accuracy: 0.8927\n",
      "Epoch 57/500\n",
      "145/145 [==============================] - 1s 7ms/step - loss: 0.3599 - accuracy: 0.8620 - val_loss: 0.3194 - val_accuracy: 0.8892\n"
     ]
    },
    {
     "name": "stdout",
     "output_type": "stream",
     "text": [
      "Epoch 58/500\n",
      "145/145 [==============================] - 1s 7ms/step - loss: 0.3581 - accuracy: 0.8650 - val_loss: 0.3220 - val_accuracy: 0.8887\n",
      "Epoch 59/500\n",
      "145/145 [==============================] - 1s 7ms/step - loss: 0.3571 - accuracy: 0.8646 - val_loss: 0.3073 - val_accuracy: 0.8983\n",
      "Epoch 60/500\n",
      "145/145 [==============================] - 1s 8ms/step - loss: 0.3486 - accuracy: 0.8678 - val_loss: 0.2929 - val_accuracy: 0.8968\n",
      "Epoch 61/500\n",
      "145/145 [==============================] - 2s 11ms/step - loss: 0.3430 - accuracy: 0.8726 - val_loss: 0.3189 - val_accuracy: 0.8877\n",
      "Epoch 62/500\n",
      "145/145 [==============================] - 2s 11ms/step - loss: 0.3490 - accuracy: 0.8696 - val_loss: 0.3002 - val_accuracy: 0.8912\n",
      "Epoch 63/500\n",
      "145/145 [==============================] - 1s 10ms/step - loss: 0.3432 - accuracy: 0.8659 - val_loss: 0.2969 - val_accuracy: 0.8907\n",
      "Epoch 64/500\n",
      "145/145 [==============================] - 1s 10ms/step - loss: 0.3440 - accuracy: 0.8715 - val_loss: 0.2902 - val_accuracy: 0.9028\n",
      "Epoch 65/500\n",
      "145/145 [==============================] - 1s 8ms/step - loss: 0.3132 - accuracy: 0.8856 - val_loss: 0.2892 - val_accuracy: 0.9058\n",
      "Epoch 66/500\n",
      "145/145 [==============================] - 1s 5ms/step - loss: 0.3333 - accuracy: 0.8786 - val_loss: 0.2868 - val_accuracy: 0.9013\n",
      "Epoch 67/500\n",
      "145/145 [==============================] - 1s 6ms/step - loss: 0.3276 - accuracy: 0.8776 - val_loss: 0.2969 - val_accuracy: 0.8958\n",
      "Epoch 68/500\n",
      "145/145 [==============================] - 1s 6ms/step - loss: 0.3247 - accuracy: 0.8793 - val_loss: 0.2879 - val_accuracy: 0.8958\n",
      "Epoch 69/500\n",
      "145/145 [==============================] - 2s 11ms/step - loss: 0.3028 - accuracy: 0.8819 - val_loss: 0.2903 - val_accuracy: 0.8887\n",
      "Epoch 70/500\n",
      "145/145 [==============================] - 1s 8ms/step - loss: 0.2994 - accuracy: 0.8871 - val_loss: 0.2715 - val_accuracy: 0.9048\n",
      "Epoch 71/500\n",
      "145/145 [==============================] - 1s 7ms/step - loss: 0.3258 - accuracy: 0.8791 - val_loss: 0.2766 - val_accuracy: 0.9028\n",
      "Epoch 72/500\n",
      "145/145 [==============================] - 1s 10ms/step - loss: 0.3141 - accuracy: 0.8797 - val_loss: 0.2769 - val_accuracy: 0.8973\n",
      "Epoch 73/500\n",
      "145/145 [==============================] - 1s 4ms/step - loss: 0.3052 - accuracy: 0.8933 - val_loss: 0.2741 - val_accuracy: 0.8978\n",
      "Epoch 74/500\n",
      "145/145 [==============================] - 1s 8ms/step - loss: 0.3245 - accuracy: 0.8771 - val_loss: 0.2798 - val_accuracy: 0.8993\n",
      "Epoch 75/500\n",
      "145/145 [==============================] - 1s 9ms/step - loss: 0.3058 - accuracy: 0.8838 - val_loss: 0.2887 - val_accuracy: 0.8943\n",
      "Epoch 76/500\n",
      "145/145 [==============================] - 1s 4ms/step - loss: 0.2909 - accuracy: 0.8903 - val_loss: 0.2857 - val_accuracy: 0.8978\n",
      "Epoch 77/500\n",
      "145/145 [==============================] - 1s 6ms/step - loss: 0.2956 - accuracy: 0.8877 - val_loss: 0.2845 - val_accuracy: 0.8978\n",
      "Epoch 78/500\n",
      "145/145 [==============================] - 1s 8ms/step - loss: 0.2871 - accuracy: 0.8901 - val_loss: 0.2814 - val_accuracy: 0.8988\n",
      "Epoch 79/500\n",
      "145/145 [==============================] - 1s 5ms/step - loss: 0.2903 - accuracy: 0.8983 - val_loss: 0.2987 - val_accuracy: 0.8842\n",
      "Epoch 80/500\n",
      "145/145 [==============================] - 1s 5ms/step - loss: 0.3139 - accuracy: 0.8862 - val_loss: 0.2839 - val_accuracy: 0.8902\n",
      "Epoch 81/500\n",
      "145/145 [==============================] - 1s 6ms/step - loss: 0.3091 - accuracy: 0.8875 - val_loss: 0.2811 - val_accuracy: 0.8968\n",
      "Epoch 82/500\n",
      "145/145 [==============================] - 1s 6ms/step - loss: 0.2920 - accuracy: 0.8925 - val_loss: 0.2949 - val_accuracy: 0.8948\n",
      "Epoch 83/500\n",
      "145/145 [==============================] - 1s 6ms/step - loss: 0.3033 - accuracy: 0.8901 - val_loss: 0.2807 - val_accuracy: 0.8948\n",
      "Epoch 84/500\n",
      "145/145 [==============================] - 1s 5ms/step - loss: 0.2990 - accuracy: 0.8944 - val_loss: 0.2667 - val_accuracy: 0.9008\n",
      "Epoch 85/500\n",
      "145/145 [==============================] - 1s 5ms/step - loss: 0.2864 - accuracy: 0.8935 - val_loss: 0.2639 - val_accuracy: 0.9053\n",
      "Epoch 86/500\n",
      "145/145 [==============================] - 1s 5ms/step - loss: 0.2909 - accuracy: 0.8868 - val_loss: 0.2849 - val_accuracy: 0.8993\n",
      "Epoch 87/500\n",
      "145/145 [==============================] - 1s 6ms/step - loss: 0.2786 - accuracy: 0.8961 - val_loss: 0.2574 - val_accuracy: 0.9079\n",
      "Epoch 88/500\n",
      "145/145 [==============================] - 1s 6ms/step - loss: 0.2784 - accuracy: 0.8972 - val_loss: 0.2725 - val_accuracy: 0.8993\n",
      "Epoch 89/500\n",
      "145/145 [==============================] - 1s 6ms/step - loss: 0.2959 - accuracy: 0.8922 - val_loss: 0.2812 - val_accuracy: 0.8988\n",
      "Epoch 90/500\n",
      "145/145 [==============================] - 1s 6ms/step - loss: 0.2748 - accuracy: 0.8974 - val_loss: 0.2767 - val_accuracy: 0.9048\n",
      "Epoch 91/500\n",
      "145/145 [==============================] - 1s 5ms/step - loss: 0.2845 - accuracy: 0.8877 - val_loss: 0.2715 - val_accuracy: 0.9033\n",
      "Epoch 92/500\n",
      "145/145 [==============================] - 1s 5ms/step - loss: 0.2804 - accuracy: 0.8968 - val_loss: 0.2751 - val_accuracy: 0.8978\n",
      "Epoch 93/500\n",
      "145/145 [==============================] - 1s 5ms/step - loss: 0.2687 - accuracy: 0.8992 - val_loss: 0.2556 - val_accuracy: 0.9068\n",
      "Epoch 94/500\n",
      "145/145 [==============================] - 1s 5ms/step - loss: 0.2592 - accuracy: 0.9050 - val_loss: 0.2689 - val_accuracy: 0.9048\n",
      "Epoch 95/500\n",
      "145/145 [==============================] - 1s 6ms/step - loss: 0.2567 - accuracy: 0.9048 - val_loss: 0.2659 - val_accuracy: 0.9048\n",
      "Epoch 96/500\n",
      "145/145 [==============================] - 1s 5ms/step - loss: 0.2661 - accuracy: 0.9052 - val_loss: 0.2751 - val_accuracy: 0.9058\n",
      "Epoch 97/500\n",
      "145/145 [==============================] - 1s 6ms/step - loss: 0.2679 - accuracy: 0.9000 - val_loss: 0.2844 - val_accuracy: 0.8978\n",
      "Epoch 98/500\n",
      "145/145 [==============================] - 1s 5ms/step - loss: 0.2619 - accuracy: 0.9061 - val_loss: 0.2720 - val_accuracy: 0.9018\n",
      "Epoch 99/500\n",
      "145/145 [==============================] - 1s 5ms/step - loss: 0.2636 - accuracy: 0.9082 - val_loss: 0.2767 - val_accuracy: 0.8988\n",
      "Epoch 100/500\n",
      "145/145 [==============================] - 1s 5ms/step - loss: 0.2739 - accuracy: 0.9030 - val_loss: 0.2782 - val_accuracy: 0.9018\n",
      "Epoch 101/500\n",
      "145/145 [==============================] - 1s 6ms/step - loss: 0.2523 - accuracy: 0.9046 - val_loss: 0.2705 - val_accuracy: 0.9038\n",
      "Epoch 102/500\n",
      "145/145 [==============================] - 1s 5ms/step - loss: 0.2723 - accuracy: 0.9039 - val_loss: 0.2746 - val_accuracy: 0.8993\n",
      "Epoch 103/500\n",
      "145/145 [==============================] - 1s 5ms/step - loss: 0.2729 - accuracy: 0.9000 - val_loss: 0.2648 - val_accuracy: 0.9043\n",
      "Epoch 104/500\n",
      "145/145 [==============================] - 1s 5ms/step - loss: 0.2532 - accuracy: 0.9071 - val_loss: 0.2663 - val_accuracy: 0.9053\n",
      "Epoch 105/500\n",
      "145/145 [==============================] - 1s 5ms/step - loss: 0.2610 - accuracy: 0.9071 - val_loss: 0.2642 - val_accuracy: 0.9074\n",
      "Epoch 106/500\n",
      "145/145 [==============================] - 1s 5ms/step - loss: 0.2575 - accuracy: 0.9037 - val_loss: 0.2688 - val_accuracy: 0.9048\n",
      "Epoch 107/500\n",
      "145/145 [==============================] - 1s 5ms/step - loss: 0.2623 - accuracy: 0.9035 - val_loss: 0.2607 - val_accuracy: 0.9104\n",
      "Epoch 108/500\n",
      "145/145 [==============================] - 1s 5ms/step - loss: 0.2623 - accuracy: 0.9091 - val_loss: 0.2700 - val_accuracy: 0.9023\n",
      "Epoch 109/500\n",
      "145/145 [==============================] - 1s 5ms/step - loss: 0.2516 - accuracy: 0.9082 - val_loss: 0.2794 - val_accuracy: 0.8968\n",
      "Epoch 110/500\n",
      "145/145 [==============================] - 1s 5ms/step - loss: 0.2585 - accuracy: 0.9033 - val_loss: 0.2681 - val_accuracy: 0.9074\n",
      "Epoch 111/500\n",
      "145/145 [==============================] - 1s 5ms/step - loss: 0.2549 - accuracy: 0.9069 - val_loss: 0.2807 - val_accuracy: 0.8993\n",
      "Epoch 112/500\n",
      "145/145 [==============================] - 1s 5ms/step - loss: 0.2540 - accuracy: 0.9067 - val_loss: 0.2689 - val_accuracy: 0.9033\n",
      "Epoch 113/500\n",
      "145/145 [==============================] - 1s 5ms/step - loss: 0.2414 - accuracy: 0.9134 - val_loss: 0.2795 - val_accuracy: 0.9018\n",
      "Epoch 114/500\n",
      "145/145 [==============================] - 1s 5ms/step - loss: 0.2556 - accuracy: 0.9048 - val_loss: 0.2798 - val_accuracy: 0.9003\n"
     ]
    },
    {
     "name": "stdout",
     "output_type": "stream",
     "text": [
      "Epoch 115/500\n",
      "145/145 [==============================] - 1s 5ms/step - loss: 0.2414 - accuracy: 0.9102 - val_loss: 0.2760 - val_accuracy: 0.9008\n",
      "Epoch 116/500\n",
      "145/145 [==============================] - 1s 5ms/step - loss: 0.2296 - accuracy: 0.9169 - val_loss: 0.2920 - val_accuracy: 0.8943\n",
      "Epoch 117/500\n",
      "145/145 [==============================] - 1s 5ms/step - loss: 0.2488 - accuracy: 0.9115 - val_loss: 0.2800 - val_accuracy: 0.9063\n",
      "Epoch 118/500\n",
      "145/145 [==============================] - 1s 5ms/step - loss: 0.2320 - accuracy: 0.9121 - val_loss: 0.2742 - val_accuracy: 0.9099\n",
      "Epoch 119/500\n",
      "145/145 [==============================] - 1s 5ms/step - loss: 0.2467 - accuracy: 0.9100 - val_loss: 0.2687 - val_accuracy: 0.9053\n",
      "Epoch 120/500\n",
      "145/145 [==============================] - 1s 5ms/step - loss: 0.2407 - accuracy: 0.9136 - val_loss: 0.2783 - val_accuracy: 0.9053\n",
      "Epoch 121/500\n",
      "145/145 [==============================] - 1s 5ms/step - loss: 0.2597 - accuracy: 0.9059 - val_loss: 0.2774 - val_accuracy: 0.9013\n",
      "Epoch 122/500\n",
      "145/145 [==============================] - 1s 6ms/step - loss: 0.2547 - accuracy: 0.9115 - val_loss: 0.2782 - val_accuracy: 0.9068\n",
      "Epoch 123/500\n",
      "145/145 [==============================] - 1s 4ms/step - loss: 0.2444 - accuracy: 0.9093 - val_loss: 0.2632 - val_accuracy: 0.9074\n"
     ]
    }
   ],
   "source": [
    "# Train our model\n",
    "es = EarlyStopping(patience=30, restore_best_weights=True)\n",
    "\n",
    "CNN_model_3_history = CNN_model_3.fit(X_train, y_train_hot, \n",
    "                    validation_split=0.3, \n",
    "                    epochs=epochs, \n",
    "                    batch_size=batch_size, \n",
    "                    verbose=1, \n",
    "                    callbacks=[es])"
   ]
  },
  {
   "cell_type": "code",
   "execution_count": 37,
   "id": "e0518769",
   "metadata": {},
   "outputs": [
    {
     "data": {
      "image/png": "[encoded data removed]",
      "text/plain": [
       "<Figure size 720x360 with 1 Axes>"
      ]
     },
     "metadata": {
      "needs_background": "light"
     },
     "output_type": "display_data"
    }
   ],
   "source": [
    "plot_history(CNN_model_3_history)"
   ]
  },
  {
   "cell_type": "code",
   "execution_count": 38,
   "id": "2f36c23a",
   "metadata": {
    "scrolled": true
   },
   "outputs": [
    {
     "data": {
      "image/png": "[encoded data removed]",
      "text/plain": [
       "<Figure size 720x360 with 1 Axes>"
      ]
     },
     "metadata": {
      "needs_background": "light"
     },
     "output_type": "display_data"
    },
    {
     "data": {
      "image/png": "[encoded data removed]",
      "text/plain": [
       "<Figure size 720x360 with 1 Axes>"
      ]
     },
     "metadata": {
      "needs_background": "light"
     },
     "output_type": "display_data"
    }
   ],
   "source": [
    "plot_loss_accuracy(CNN_model_3_history)"
   ]
  },
  {
   "cell_type": "markdown",
   "id": "b1f06b01",
   "metadata": {},
   "source": [
    "### Cross Validation"
   ]
  },
  {
   "cell_type": "code",
   "execution_count": 39,
   "id": "5b704d7e",
   "metadata": {},
   "outputs": [],
   "source": [
    "def initialize_model():\n",
    "    CNN_model_3 = Sequential()\n",
    "    CNN_model_3.add(Conv2D(32,\n",
    "        (3,3),\n",
    "        input_shape=(buckets,max_len,channels),\n",
    "        activation='relu'))\n",
    "    CNN_model_3.add(MaxPooling2D(pool_size=(2, 2)))\n",
    "    CNN_model_3.add(Dropout(0.25))\n",
    "    CNN_model_3.add(Conv2D(32,\n",
    "        (3,3),\n",
    "        input_shape=(buckets,max_len,channels),\n",
    "        activation='relu'))\n",
    "    CNN_model_3.add(MaxPooling2D(pool_size=(2, 2)))\n",
    "    CNN_model_3.add(Dropout(0.25))\n",
    "    CNN_model_3.add(Flatten())\n",
    "    CNN_model_3.add(Dense(128, activation='relu'))\n",
    "    CNN_model_3.add(Dense(num_classes, activation='softmax'))\n",
    "\n",
    "    #Compile\n",
    "    CNN_model_3.compile(loss='categorical_crossentropy', optimizer='adam',\n",
    "                    metrics=['accuracy'])\n",
    "    \n",
    "    return CNN_model_3"
   ]
  },
  {
   "cell_type": "code",
   "execution_count": 40,
   "id": "0c9fa3ac",
   "metadata": {},
   "outputs": [],
   "source": [
    "from sklearn.model_selection import KFold\n",
    "\n",
    "kf = KFold(n_splits=5)\n",
    "kf.get_n_splits()\n",
    "\n",
    "epochs = 500\n",
    "batch_size = 32\n",
    "num_classes = 4\n",
    "es = EarlyStopping(patience=30, restore_best_weights=True, monitor='accuracy')\n",
    "\n",
    "results = []\n",
    "\n",
    "for train_index, val_index in kf.split(X_train):\n",
    "    \n",
    "    # Split the data into train and test\n",
    "    X_train2, X_val = X_train[train_index], X_train[val_index]\n",
    "    y_train_hot2, y_val_hot = y_train_hot[train_index], y_train_hot[val_index]\n",
    "      \n",
    "    # Initialize the model\n",
    "    model = initialize_model()\n",
    "    \n",
    "    # Fit the model on the train data\n",
    "    model.fit(X_train2, \n",
    "              y_train_hot2,\n",
    "              epochs = epochs,\n",
    "              batch_size = batch_size,\n",
    "              callbacks=[es],\n",
    "              verbose = 0)\n",
    "    \n",
    "    # Evaluate the model on the test data\n",
    "    res = model.evaluate(X_val, y_val_hot, verbose=0)\n",
    "    results.append(res)"
   ]
  },
  {
   "cell_type": "code",
   "execution_count": 41,
   "id": "ec8d6931",
   "metadata": {},
   "outputs": [
    {
     "data": {
      "text/plain": [
       "[[0.20947641134262085, 0.9222054481506348],\n",
       " [0.2115858793258667, 0.9320241808891296],\n",
       " [0.2356494963169098, 0.9168556332588196],\n",
       " [0.25055834650993347, 0.9092970490455627],\n",
       " [0.19255687296390533, 0.9274376630783081]]"
      ]
     },
     "execution_count": 41,
     "metadata": {},
     "output_type": "execute_result"
    }
   ],
   "source": [
    "results"
   ]
  },
  {
   "cell_type": "code",
   "execution_count": 42,
   "id": "98834cc0",
   "metadata": {},
   "outputs": [
    {
     "name": "stdout",
     "output_type": "stream",
     "text": [
      "Mean accuracy : 92.16% (±0.80)\n"
     ]
    }
   ],
   "source": [
    "accuracy = [_[1] for _ in results]\n",
    "\n",
    "print(f'Mean accuracy : {np.mean(accuracy)*100:.2f}% (±{np.std(accuracy)*100:.2f})')"
   ]
  },
  {
   "cell_type": "code",
   "execution_count": null,
   "id": "53e3574e",
   "metadata": {},
   "outputs": [],
   "source": []
  },
  {
   "cell_type": "markdown",
   "id": "54a5d045",
   "metadata": {},
   "source": [
    "# Model Evaluation"
   ]
  },
  {
   "cell_type": "code",
   "execution_count": null,
   "id": "0c856dc1",
   "metadata": {},
   "outputs": [],
   "source": []
  }
 ],
 "metadata": {
  "kernelspec": {
   "display_name": "Python 3 (ipykernel)",
   "language": "python",
   "name": "python3"
  },
  "language_info": {
   "codemirror_mode": {
    "name": "ipython",
    "version": 3
   },
   "file_extension": ".py",
   "mimetype": "text/x-python",
   "name": "python",
   "nbconvert_exporter": "python",
   "pygments_lexer": "ipython3",
   "version": "3.8.12"
  },
  "toc": {
   "base_numbering": 1,
   "nav_menu": {},
   "number_sections": false,
   "sideBar": true,
   "skip_h1_title": false,
   "title_cell": "Table of Contents",
   "title_sidebar": "Contents",
   "toc_cell": false,
   "toc_position": {
    "height": "calc(100% - 180px)",
    "left": "10px",
    "top": "150px",
    "width": "379.387px"
   },
   "toc_section_display": true,
   "toc_window_display": true
  }
 },
 "nbformat": 4,
 "nbformat_minor": 5
}
